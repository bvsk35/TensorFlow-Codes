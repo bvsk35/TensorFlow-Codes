{
 "cells": [
  {
   "cell_type": "markdown",
   "metadata": {
    "colab_type": "text",
    "id": "BiBLGdsnwAqt"
   },
   "source": [
    "# TensorFlow \n",
    "## Convolutional Neural Network for Classification of MNIST Handwritten Digit Dataset\n",
    "### by [Sameer Kumar](https://sites.google.com/view/bvsk35/home?authuser=0)"
   ]
  },
  {
   "cell_type": "markdown",
   "metadata": {
    "colab_type": "text",
    "id": "5Ku_8g2eOKkH"
   },
   "source": [
    "# Part 1"
   ]
  },
  {
   "cell_type": "markdown",
   "metadata": {
    "colab_type": "text",
    "id": "YfVQ1J41wAqx"
   },
   "source": [
    "### Introduction\n",
    "Here I have created a basic code to show the how to use TensorFlow and buidl CNN for classification of MNIST Handwritten digit dataset. We can achieve accuracy of 97% using fully connected nerual network. But using simple CNN we can achieve accuracy over 99%.\n",
    "\n",
    "Convolutional Networks work by moving small filters across the input image. This means the filters are re-used for recognizing patterns throughout the entire input image. This makes the Convolutional Networks much more powerful than Fully-Connected networks with the same number of variables. This in turn makes the Convolutional Networks faster to train."
   ]
  },
  {
   "cell_type": "markdown",
   "metadata": {
    "colab_type": "text",
    "id": "JQO32sIHwAq1"
   },
   "source": [
    "### CNNs\n",
    "These are inspired from the Wiesel and Hubel research on analysis of visual cortex, development of the visual system and description of ocular dominance columns for which they have won Nobel Prize.\n",
    "\n",
    "Below image is representation of convolutional neural networks in LeNet style (The LeNet architecture was first introduced by LeCun et al. in their 1998 paper, Gradient-Based Learning Applied to Document Recognition). If input image is Black & weight i.e. binary then it has only single channel i.e. only set of pixel values will be present. If input image is a Color image then we have three channels i.e. one set of pixels for primary colors RGB. If we apply `n` different set of filters on any kind of image (B&W or Color) then we end up with `n` different outputs i.e. each filter gives one output. Each of the `n` filters can have `m` subset of filters based on no. of channels for example if image is B&W then we have `1` channel hence `m = 1`, if color then we have `3` channels hence `m = 3`. Also, after applying first convolution layer on given image (B&W or Color) we can have output with `p` no. of channels, then in that case `m` for next layer will be equal to `p`.\n",
    "\n",
    "In below picture we can see that we start with 3 channel image and 128 x 128 pixels. Then we apply filter of some size (it can be anything) since we have 3 channels in the image each filter we apply will have 3 channels and we have 16 of those. Size of the output remains same because we can pad the input to maintain size of input and ouput to be same. In each convolutional layer some kind of activation function is applied. Calculation of the output of convolutional is simple, it is nothing but dot product of the filter applied on the image. After this people do max-pooling (sometimes location of the feature is not important) to decrease the resolution of the image. This is done by taking max value of the pixel in that image. We can other variants like L2 pooling etc. There is no activation function after pooling operation. This process is repeated until we extracted the important information/features from the images. Finally we have a fully-connected layer for doing the classification. This process reduces no. of trainable parameters required drastically [link](http://cs231n.github.io/convolutional-networks/). \n",
    "![alt text](Images/4.png \"Fig.1\")"
   ]
  },
  {
   "cell_type": "markdown",
   "metadata": {
    "colab_type": "text",
    "id": "BfBrqdLowAq4"
   },
   "source": [
    "### Convolutional Layer\n",
    "The following chart shows the basic idea of processing an image in the first convolutional layer. The input image depicts the number 7 and four copies of the image are shown here, so we can see more clearly how the filter is being moved to different positions of the image. For each position of the filter, the dot-product is being calculated between the filter and the image pixels under the filter, which results in a single pixel in the output image. So moving the filter across the entire input image results in a new image being generated.\n",
    "\n",
    "The red filter-weights means that the filter has a positive reaction to black pixels in the input image, while blue pixels means the filter has a negative reaction to black pixels.\n",
    "\n",
    "In this case it appears that the filter recognizes the horizontal line of the 7-digit, as can be seen from its stronger reaction to that line in the output image.\n",
    "\n",
    "![alt text](Images/1.png \"Fig.2\")\n",
    "\n",
    "The step-size for moving the filter across the input is called the stride. There is a stride for moving the filter horizontally (x-axis) and another stride for moving vertically (y-axis).\n",
    "\n",
    "In the code below, the stride is set to 1 in both directions, which means the filter starts in the upper left corner of the input image and is being moved 1 pixel to the right in each step. When the filter reaches the end of the image to the right, then the filter is moved back to the left side and 1 pixel down the image. This continues until the filter has reached the lower right corner of the input image and the entire output image has been generated.\n",
    "\n",
    "When the filter reaches the end of the right-side as well as the bottom of the input image, then it can be padded with zeroes (white pixels). This causes the output image to be of the exact same dimension as the input image.\n",
    "\n",
    "Furthermore, the output of the convolution may be passed through a so-called Rectified Linear Unit (ReLU), which merely ensures that the output is positive because negative values are set to zero. The output may also be down-sampled by so-called max-pooling, which considers small windows of 2x2 pixels and only keeps the largest of those pixels. This halves the resolution of the input image e.g. from 28x28 to 14x14 pixels.\n",
    "\n",
    "Note that the second convolutional layer is more complicated because it takes 16 input channels. We want a separate filter for each input channel, so we need 16 filters instead of just one. Furthermore, we want 36 output channels from the second convolutional layer, so in total we need 16 x 36 = 576 filters for the second convolutional layer. It can be a bit challenging to understand how this works."
   ]
  },
  {
   "cell_type": "markdown",
   "metadata": {
    "colab_type": "text",
    "id": "8n_g56qOwAq7"
   },
   "source": [
    "### Flowchart\n",
    "The following chart shows roughly how the data flows in the Convolutional Neural Network that is implemented below. **Note:** below flow chart shows everything correct but the weights shown in the picture are stacked based on channel not the filter i.e., if each (6, 6) weight image grid shown in the color corresponds to one channel stream. For example take convolution layer 2: it must be interpreted as each color image of the weight presented in first row and first column in the first grid combined with the all 16 makes one filter. Hence by combining each (row, col) weight element from all grids we end up creating 36 filters with 16 input channels. Look at the last section where you can weights are plotted based on filters. This image is here just for reference. ![alt text](Images/2.png \"Fig.3\")\n",
    "\n",
    "Flowcharts depicts what has been descibed above. The input image is processed in the first convolutional layer using the filter-weights. This results in 16 new images, one for each filter in the convolutional layer. The images are also down-sampled so the image resolution is decreased from 28x28 to 14x14.\n",
    "\n",
    "These 16 smaller images are then processed in the second convolutional layer. We need filter-weights for each of these 16 channels, and we need filter-weights for each output channel of this layer. There are 36 output channels so there are a total of 16 x 36 = 576 filters in the second convolutional layer. The resulting images are down-sampled again to 7x7 pixels.\n",
    "\n",
    "The output of the second convolutional layer is 36 images of 7x7 pixels each. These are then flattened to a single vector of length 7 x 7 x 36 = 1764, which is used as the input to a fully-connected layer with 128 neurons (or elements). This feeds into another fully-connected layer with 10 neurons, one for each of the classes, which is used to determine the class of the image, that is, which number is depicted in the image.\n",
    "\n",
    "The convolutional filters are initially chosen at random, so the classification is done randomly. The error between the predicted and true class of the input image is measured as the so-called cross-entropy. The optimizer then automatically propagates this error back through the Convolutional Network using the chain-rule of differentiation and updates the filter-weights so as to improve the classification error. This is done iteratively thousands of times until the classification error is sufficiently low.\n",
    "\n",
    "Note that the computation in TensorFlow is actually done on a batch of images instead of a single image, which makes the computation more efficient. This means the flowchart actually has one more data-dimension when implemented in TensorFlow."
   ]
  },
  {
   "cell_type": "markdown",
   "metadata": {
    "colab_type": "text",
    "id": "1KC3pKaRwAq-"
   },
   "source": [
    "### Practical implementation\n",
    "In theory CNN architecture says `Convolutional Layer - Non-linear Activation - Pooling Layer` but in practice we do `Convolutional Layer - Pooling Layer - Non-linear Activation`. There is nice reasoning for this in the following [link](https://stackoverflow.com/questions/35543428/activation-function-after-pooling-layer-or-convolutional-layer). It says that if we have non-decreasing non-linear activation functions then order doesn't matter becasue they satisfy commutative property. This can be verified by doing experiments and observing that we end up with same amount performance. Also, applying activation function helps to decrease the computation time (it may not matter sometimes because max time spent while doing convolution). "
   ]
  },
  {
   "cell_type": "markdown",
   "metadata": {
    "colab_type": "text",
    "id": "rpACJFjTwArB"
   },
   "source": [
    "**Supress warnings**: When calling *tensorflow* module in Juptyer Notebook it raises warning of *h5py* compliation against wrong version of *hdf5* in Windows OS when using Anaconda. Even though internally all versions are correct this might be due to wrong version written recipe file. \n",
    "\n",
    "**TLDR;** Warnings can be ignored (since everything works properly) and to suppress the warning I am calling this function. But it is not necessary. If you want to see warnings once (which happens by default in Juptyer notebook) uncomment the third line below and comment the second line. "
   ]
  },
  {
   "cell_type": "code",
   "execution_count": 0,
   "metadata": {
    "colab": {},
    "colab_type": "code",
    "id": "huiiyJ4VwArF"
   },
   "outputs": [],
   "source": [
    "import warnings\n",
    "warnings.filterwarnings('ignore')\n",
    "# warnings.filterwarnings(action='once')"
   ]
  },
  {
   "cell_type": "code",
   "execution_count": 0,
   "metadata": {
    "colab": {},
    "colab_type": "code",
    "id": "tHYTROmHwArU"
   },
   "outputs": [],
   "source": [
    "import numpy as np\n",
    "import matplotlib.pyplot as plt\n",
    "from sklearn.metrics import confusion_matrix\n",
    "import tensorflow as tf\n",
    "from Load_MNIST_Data import MNIST\n",
    "\n",
    "import math"
   ]
  },
  {
   "cell_type": "markdown",
   "metadata": {
    "colab_type": "text",
    "id": "EIKGfvxiOKkz"
   },
   "source": [
    "# Part 2"
   ]
  },
  {
   "cell_type": "markdown",
   "metadata": {
    "colab_type": "text",
    "id": "jIzeN9qawArR"
   },
   "source": [
    "### Imports\n",
    "Import all the required modules and *Load_MNIST_Data* has a class *MNIST* written by me which has all basic helper functions required. "
   ]
  },
  {
   "cell_type": "markdown",
   "metadata": {
    "colab_type": "text",
    "id": "rIJTvCswwAre"
   },
   "source": [
    "### Load Data\n",
    "Load the MNIST data using *prep_data* which outputs training set, validation set and test set scaled based on the scaling defined by the user. Default is 'MMS': MinMaxScaler and other option is 'SS': StandardScaler. Use *one_hot_encoded* to generate the one hot encoded vectors for training purposes. "
   ]
  },
  {
   "cell_type": "code",
   "execution_count": 0,
   "metadata": {
    "colab": {},
    "colab_type": "code",
    "id": "HGX35xn2wArh"
   },
   "outputs": [],
   "source": [
    "data = MNIST(scaling='MMS')\n",
    "train_img, train_label, val_img, val_label, test_img, test_label = data.prep_data('train-images-idx3-ubyte.gz', \n",
    "                                                                                  'train-labels-idx1-ubyte.gz', \n",
    "                                                                                  't10k-images-idx3-ubyte.gz', \n",
    "                                                                                  't10k-labels-idx1-ubyte.gz')\n",
    "hot_label_train, hot_label_val, hot_label_test = data.one_hot_encoded(train_label, val_label, test_label)"
   ]
  },
  {
   "cell_type": "markdown",
   "metadata": {
    "colab_type": "text",
    "id": "k4CAqRbYwArr"
   },
   "source": [
    "The MNIST data-set has now been loaded and consists of 70000 images and labels for the images. The dataset is split into 3 mutually exclusive subsets."
   ]
  },
  {
   "cell_type": "code",
   "execution_count": 4,
   "metadata": {
    "colab": {
     "base_uri": "https://localhost:8080/",
     "height": 87
    },
    "colab_type": "code",
    "id": "S1fV1onzwAru",
    "outputId": "71fb9114-f533-4b4a-a7d5-987d060cb4aa"
   },
   "outputs": [
    {
     "name": "stdout",
     "output_type": "stream",
     "text": [
      "Size of:\n",
      "- Training-set:\t\t55000\n",
      "- Validation-set:\t5000\n",
      "- Test-set:\t\t10000\n"
     ]
    }
   ],
   "source": [
    "print(\"Size of:\")\n",
    "print(\"- Training-set:\\t\\t{}\".format(data.num_train))\n",
    "print(\"- Validation-set:\\t{}\".format(data.num_val))\n",
    "print(\"- Test-set:\\t\\t{}\".format(data.num_test))"
   ]
  },
  {
   "cell_type": "markdown",
   "metadata": {
    "colab_type": "text",
    "id": "H6NnDUbwwAr8"
   },
   "source": [
    "### Configuration of Neural Network\n",
    "The configuration of the Convolutional Neural Network is defined here for convenience. Copy some of the data-dimensions for convenience."
   ]
  },
  {
   "cell_type": "code",
   "execution_count": 0,
   "metadata": {
    "colab": {},
    "colab_type": "code",
    "id": "gr0vwORjwAr-"
   },
   "outputs": [],
   "source": [
    "# Convolutional Layer 1.\n",
    "filter_size_1 = 5          # Convolution filters are 5 x 5 pixels.\n",
    "num_filters_1 = 16         # There are 16 of these filters.\n",
    "\n",
    "# Convolutional Layer 2.\n",
    "filter_size_2 = 5          # Convolution filters are 5 x 5 pixels.\n",
    "num_filters_2 = 36         # There are 36 of these filters.\n",
    "\n",
    "# Fully-connected layer.\n",
    "fc_size = 128             # Number of neurons in fully-connected layer.\n",
    "\n",
    "\n",
    "# The number of pixels in each dimension of an image.\n",
    "img_size = data.img_size\n",
    "\n",
    "# The images are stored in one-dimensional arrays of this length.\n",
    "img_size_flat = data.img_size_flat\n",
    "\n",
    "# Tuple with height and width of images used to reshape arrays.\n",
    "img_shape = data.img_shape\n",
    "\n",
    "# Number of classes, one class for each of 10 digits.\n",
    "num_classes = data.num_classes\n",
    "\n",
    "# Number of colour channels for the images: 1 channel for gray-scale.\n",
    "num_channels = data.num_channels"
   ]
  },
  {
   "cell_type": "markdown",
   "metadata": {
    "colab_type": "text",
    "id": "tYERzCicwAsE"
   },
   "source": [
    "### One-Hot Encoding\n",
    "The output data is loaded as both integer labels and One-Hot encoded arrays. This means the labels have been converted from a single integer to a vector whose length equals the number of possible classes. All elements of the vector are zero except for the $i^{th}$ element which is 1 and means the class is $i$. For example, the One-Hot encoded labels for the first 5 images in the test-set are:"
   ]
  },
  {
   "cell_type": "code",
   "execution_count": 6,
   "metadata": {
    "colab": {
     "base_uri": "https://localhost:8080/",
     "height": 141
    },
    "colab_type": "code",
    "id": "ATEh6r8kwAsF",
    "outputId": "755b953e-150b-4842-e08a-fb38cd79419b"
   },
   "outputs": [
    {
     "name": "stdout",
     "output_type": "stream",
     "text": [
      "One-Hot Encoded vectors: \n",
      " [[0. 0. 0. 0. 0. 0. 0. 1. 0. 0.]\n",
      " [0. 0. 1. 0. 0. 0. 0. 0. 0. 0.]\n",
      " [0. 1. 0. 0. 0. 0. 0. 0. 0. 0.]\n",
      " [1. 0. 0. 0. 0. 0. 0. 0. 0. 0.]\n",
      " [0. 0. 0. 0. 1. 0. 0. 0. 0. 0.]]\n"
     ]
    }
   ],
   "source": [
    "print('One-Hot Encoded vectors: \\n', hot_label_test[:5, :])"
   ]
  },
  {
   "cell_type": "markdown",
   "metadata": {
    "colab_type": "text",
    "id": "Rq8b7rGqwAsN"
   },
   "source": [
    "We also need the classes as integers for various comparisons and performance measures. These can be found from the One-Hot encoded arrays by taking the index of the highest element using the `np.argmax()` function. But this has already been done when the dataset was loaded, so we can see the labels for the first five images in the test set. Compare these to the One-Hot encoded arrays above."
   ]
  },
  {
   "cell_type": "code",
   "execution_count": 7,
   "metadata": {
    "colab": {
     "base_uri": "https://localhost:8080/",
     "height": 72
    },
    "colab_type": "code",
    "id": "5BJZD22lwAsO",
    "outputId": "f4b8887f-98f5-4c23-ee50-313e49a5793f"
   },
   "outputs": [
    {
     "name": "stdout",
     "output_type": "stream",
     "text": [
      "Labels: \n",
      " [7 2 1 0 4]\n"
     ]
    }
   ],
   "source": [
    "print('Labels: \\n', test_label[:5])"
   ]
  },
  {
   "cell_type": "markdown",
   "metadata": {
    "colab_type": "text",
    "id": "RlCP8YW0wAsU"
   },
   "source": [
    "### Helper function for Plotting\n",
    "This function is used to plot images in a nxn grid. "
   ]
  },
  {
   "cell_type": "code",
   "execution_count": 0,
   "metadata": {
    "colab": {},
    "colab_type": "code",
    "id": "Wnf3P46swAsW"
   },
   "outputs": [],
   "source": [
    "def plot_images(images, cls_true, cls_pred=None, color_map='binary'):\n",
    "    check = int(np.sqrt(images.shape[0]))\n",
    "    try:\n",
    "        assert check * check == images.shape[0] \n",
    "    except AssertionError:\n",
    "        raise AssertionError(\"Input array first dimension must be square\")\n",
    "    \n",
    "    if check != 1:\n",
    "        # Create figure with nxn sub-plots.\n",
    "        fig, axes = plt.subplots(check, check)\n",
    "        fig.subplots_adjust(hspace=0.3, wspace=0.3)\n",
    "\n",
    "        for i, ax in enumerate(axes.flat):\n",
    "            # Plot image.\n",
    "            ax.imshow(images[i].reshape(img_shape), cmap=color_map)\n",
    "\n",
    "            # Show true and predicted classes.\n",
    "            if cls_pred is None:\n",
    "                xlabel = \"True: {0}\".format(cls_true[i])\n",
    "            else:\n",
    "                xlabel = \"True: {0}, Pred: {1}\".format(cls_true[i], cls_pred[i])\n",
    "\n",
    "            ax.set_xlabel(xlabel)\n",
    "\n",
    "            # Remove ticks from the plot.\n",
    "            ax.set_xticks([])\n",
    "            ax.set_yticks([])\n",
    "    else:\n",
    "        fig, axes = plt.subplots()\n",
    "        axes.imshow(images.reshape(img_shape), cmap=color_map)\n",
    "        # Show true and predicted classes.\n",
    "        if cls_pred is None:\n",
    "            xlabel = \"True: {0}\".format(cls_true)\n",
    "        else:\n",
    "            xlabel = \"True: {0}, Pred: {1}\".format(cls_true, cls_pred)\n",
    "\n",
    "        axes.set_xlabel(xlabel)\n",
    "\n",
    "        # Remove ticks from the plot.\n",
    "        axes.set_xticks([])\n",
    "        axes.set_yticks([])       \n",
    "        \n",
    "    # Ensure the plot is shown correctly with multiple plots\n",
    "    # in a single Notebook cell.\n",
    "    plt.show()"
   ]
  },
  {
   "cell_type": "markdown",
   "metadata": {
    "colab_type": "text",
    "id": "4xokSX0cwAsZ"
   },
   "source": [
    "### Plot a few images to see how does dataset looks\n",
    "This images depends on which kind of scaling you are using. If you use 'SS' scaling then images look as if it has been smudged and if you use 'MMS' scaling then images look as if more crisp **People mostly use 'MMS' scaling** ."
   ]
  },
  {
   "cell_type": "code",
   "execution_count": 9,
   "metadata": {
    "colab": {
     "base_uri": "https://localhost:8080/",
     "height": 287
    },
    "colab_type": "code",
    "id": "cAMwNgwkwAse",
    "outputId": "1fa80544-dd8f-4818-f339-d9e7edec1ac6"
   },
   "outputs": [
    {
     "data": {
      "image/png": "[encoded data removed]",
      "text/plain": [
       "<Figure size 432x288 with 9 Axes>"
      ]
     },
     "metadata": {
      "tags": []
     },
     "output_type": "display_data"
    }
   ],
   "source": [
    "# Get the first images from the test-set.\n",
    "images = test_img[0:9]\n",
    "\n",
    "# Get the true classes for those images.\n",
    "cls_true = test_label[0:9]\n",
    "\n",
    "# Plot the images and labels using our helper-function above.\n",
    "plot_images(images=images, cls_true=cls_true)"
   ]
  },
  {
   "cell_type": "markdown",
   "metadata": {
    "colab_type": "text",
    "id": "jn5dCgoCOKl6"
   },
   "source": [
    "# Part 3"
   ]
  },
  {
   "cell_type": "markdown",
   "metadata": {
    "colab_type": "text",
    "id": "ndLyq9jRwAsi"
   },
   "source": [
    "## TensorFlow Graph\n",
    "The entire purpose of TensorFlow is to have a computational graph that can be executed much more efficiently than if the same calculations were to be performed directly in Python. TensorFlow can be more efficient than NumPy because TensorFlow knows the entire computation graph that must be executed, while NumPy only knows the computation of a single mathematical operation at a time.\n",
    "\n",
    "TensorFlow can also efficiently load tons of real world data present in storage drives (in the format of byte) and perform computations faster than NumPy. \n",
    "\n",
    "TensorFlow can also automatically calculate the gradients that are needed to optimize the variables of the graph so as to make the model perform better. This is because the graph is a combination of simple arithmetic expressions so the gradient of the entire graph can be calculated using the chain-rule for derivatives.\n",
    "\n",
    "TensorFlow can also take advantage of multi-core CPUs as well as GPUs - and Google has even built special chips just for TensorFlow which are called TPUs (Tensor Processing Units) that are even faster than GPUs.\n",
    "\n",
    "A TensorFlow graph consists of the following parts (and many more):\n",
    "* Placeholder: variables used to feed input into the graph.\n",
    "* Model variables: that are going to be optimized so as to make the model perform better.\n",
    "* Model: which is essentially just a mathematical function that calculates some output given the input in the placeholder variables and the model variables.\n",
    "* Cost: measure that can be used to guide the optimization of the variables.\n",
    "* Optimization method: which updates the variables of the model.\n",
    "\n",
    "In addition, the TensorFlow graph may also contain various debugging statements e.g. for logging data to be displayed using TensorBoard."
   ]
  },
  {
   "cell_type": "markdown",
   "metadata": {
    "colab_type": "text",
    "id": "eObedMbhwAsj"
   },
   "source": [
    "### Helper-functions for creating new variables\n",
    "Functions for creating new TensorFlow variables in the given shape and initializing them with random values. Note that the initialization is not actually done at this point, it is merely being defined in the TensorFlow graph.\n",
    "\n",
    "`tf.truncated_normal()`: Outputs random values from a truncated normal distribution. The generated values follow a normal distribution with specified mean and standard deviation, except that values whose magnitude is more than 2 standard deviations from the mean are dropped and re-picked."
   ]
  },
  {
   "cell_type": "code",
   "execution_count": 0,
   "metadata": {
    "colab": {},
    "colab_type": "code",
    "id": "ZTSF6JazwAsk"
   },
   "outputs": [],
   "source": [
    "def new_weights(shape):\n",
    "    return tf.Variable(tf.truncated_normal(shape, stddev=0.05))"
   ]
  },
  {
   "cell_type": "code",
   "execution_count": 0,
   "metadata": {
    "colab": {},
    "colab_type": "code",
    "id": "YHZxlm_hwAsn"
   },
   "outputs": [],
   "source": [
    "def new_biases(length):\n",
    "    return tf.Variable(tf.constant(0.05, shape=[length]))"
   ]
  },
  {
   "cell_type": "markdown",
   "metadata": {
    "colab_type": "text",
    "id": "zE3LmTIkwAsr"
   },
   "source": [
    "### Helper-function for creating a new Convolutional Layer\n",
    "This function creates a new convolutional layer in the computational graph for TensorFlow. Nothing is actually calculated here, we are just adding the mathematical formulas to the TensorFlow graph.\n",
    "\n",
    "It is assumed that the argument `input_img` passed to the function is a 4-dim tensor with the following dimensions:\n",
    "- Total no. of images.\n",
    "- Y-axis of each image.\n",
    "- X-axis of each image.\n",
    "- Channels of each image.\n",
    "\n",
    "Note that the input channels may either be **colour-channels**, or it may be **filter-channels** if the input is produced from a previous convolutional layer.\n",
    "\n",
    "The `output image` of the convolution layer will be another 4-dim tensor with the following dimensions:\n",
    "- Total no. of images, same as input.\n",
    "- Y-axis of each image. If 2x2 pooling is used, then the height and width of the input images is divided by 2.\n",
    "- X-axis of each image. If 2x2 pooling is used, then the height and width of the input images is divided by 2.\n",
    "- Channels produced by the convolutional filters.\n",
    "\n",
    "`tf.nn.conv2d`: Computes a 2-D convolution given 4-D `input` and `filter` tensors. Please refer to this [link](https://www.tensorflow.org/api_docs/python/tf/nn/conv2d) for detailed explanation for each args that this function takes. It is very important. \n",
    "\n",
    "`tf.nn.max_pool`: Performs the max pooling on the input. Please refer to this [link](https://www.tensorflow.org/api_docs/python/tf/nn/max_pool) and this [link](https://stackoverflow.com/questions/38601452/the-usages-of-ksize-in-tf-nn-max-pool) for detailed explanation for each args that this function takes.\n",
    "\n",
    "**Note:** All our images and filters are square matrices."
   ]
  },
  {
   "cell_type": "code",
   "execution_count": 0,
   "metadata": {
    "colab": {},
    "colab_type": "code",
    "id": "HdF7GY3KwAss"
   },
   "outputs": [],
   "source": [
    "def new_conv_layer(input_img,              # input images from previous layer.\n",
    "                   num_input_channels,     # no. of channels in prev. layer.\n",
    "                   filter_size,            # width and height of each filter.\n",
    "                   num_filters,            # no. of filters.\n",
    "                   use_pooling=True):      # Use 2x2 max-pooling.\n",
    "\n",
    "    # Shape of the filter-weights for the convolution.\n",
    "    # This format is determined by the TensorFlow API.\n",
    "    shape = [filter_size, filter_size, num_input_channels, num_filters]\n",
    "\n",
    "    # Create new weights aka. filters with the given shape.\n",
    "    weights = new_weights(shape=shape)\n",
    "\n",
    "    # Create new biases, one for each filter.\n",
    "    biases = new_biases(length=num_filters)\n",
    "\n",
    "    # Create the TensorFlow operation for convolution.\n",
    "    # Note the strides are set to 1 in all dimensions.\n",
    "    # The first and last stride must always be 1,\n",
    "    # because the first is for the image-number and\n",
    "    # the last is for the input-channel.\n",
    "    # For ex: strides=[1, 2, 2, 1] would mean that the filter\n",
    "    # is moved 2 pixels across the x- and y-axis of the image.\n",
    "    # The padding is set to 'SAME' which means the input image\n",
    "    # is padded with zeroes so the size of the output is the same.\n",
    "    layer = tf.nn.conv2d(input=input_img,\n",
    "                         filter=weights,\n",
    "                         strides=[1, 1, 1, 1],\n",
    "                         padding='SAME')\n",
    "\n",
    "    # Add the biases to the results of the convolution.\n",
    "    # A bias-value is added after applying one of the `n` filters (which contains `p`-channel filters).\n",
    "    layer += biases\n",
    "\n",
    "    # Use pooling to down-sample the image resolution.\n",
    "    if use_pooling:\n",
    "        # ksize: talks about size of the pooling kernel.\n",
    "        # stride: talks about no. of steps taking by kernel.\n",
    "        # This is 2x2 max-pooling, which means that we\n",
    "        # consider 2x2 windows and select the largest value\n",
    "        # in each window. Then we move 2 pixels to the next window.\n",
    "        layer = tf.nn.max_pool(value=layer,\n",
    "                               ksize=[1, 2, 2, 1],\n",
    "                               strides=[1, 2, 2, 1],\n",
    "                               padding='SAME')\n",
    "\n",
    "    # Rectified Linear Unit (ReLU).\n",
    "    # It calculates max(x, 0) for each input pixel x.\n",
    "    # This adds some non-linearity to the formula and allows us\n",
    "    # to learn more complicated functions.\n",
    "    layer = tf.nn.relu(layer)\n",
    "\n",
    "    # Note that ReLU is normally executed before the pooling,\n",
    "    # but since relu(max_pool(x)) == max_pool(relu(x)) we can\n",
    "    # save 75% of the relu-operations by max-pooling first.\n",
    "\n",
    "    # We return both the resulting layer and the filter-weights\n",
    "    # because we will plot the weights later.\n",
    "    return layer, weights"
   ]
  },
  {
   "cell_type": "markdown",
   "metadata": {
    "colab_type": "text",
    "id": "lzD1znnywAsx"
   },
   "source": [
    "### Helper-function for flattening a layer\n",
    "A convolutional layer produces an output tensor with 4 dimensions. We will add fully-connected layers after the convolution layers, so we need to reduce the 4-dim tensor to 2-dim which can be used as input to the fully-connected layer."
   ]
  },
  {
   "cell_type": "code",
   "execution_count": 0,
   "metadata": {
    "colab": {},
    "colab_type": "code",
    "id": "oYtEEBOVwAsy"
   },
   "outputs": [],
   "source": [
    "def flatten_layer(layer):\n",
    "    # Get the shape of the input layer.\n",
    "    layer_shape = layer.get_shape()\n",
    "\n",
    "    # The shape of the input layer is assumed to be:\n",
    "    # layer_shape == [num_images, img_height, img_width, num_channels]\n",
    "\n",
    "    # The number of features is: img_height * img_width * num_channels\n",
    "    # We can use a function from TensorFlow to calculate this.\n",
    "    # num_elements(): Returns the total number of elements, or none for incomplete shapes.\n",
    "    num_features = layer_shape[1:4].num_elements()\n",
    "    \n",
    "    # Reshape the layer to [num_images, num_features].\n",
    "    # Note that we just set the size of the second dimension\n",
    "    # to num_features and the size of the first dimension to -1\n",
    "    # which means the size in that dimension is calculated\n",
    "    # so the total size of the tensor is unchanged from the reshaping.\n",
    "    layer_flat = tf.reshape(layer, [-1, num_features])\n",
    "\n",
    "    # The shape of the flattened layer is now:\n",
    "    # [num_images, img_height * img_width * num_channels]\n",
    "\n",
    "    # Return both the flattened layer and the number of features.\n",
    "    return layer_flat, num_features"
   ]
  },
  {
   "cell_type": "markdown",
   "metadata": {
    "colab_type": "text",
    "id": "gg-zAF3pwAs2"
   },
   "source": [
    "### Helper-function for creating a new Fully-Connected Layer or Dense Layer\n",
    "This function creates a new fully-connected layer in the computational graph for TensorFlow. It is assumed that the input is a 2-dim tensor of shape `[num_images, num_inputs]`. The output is a 2-dim tensor of shape `[num_images, num_outputs]`."
   ]
  },
  {
   "cell_type": "code",
   "execution_count": 0,
   "metadata": {
    "colab": {},
    "colab_type": "code",
    "id": "6ENF3b5bwAs2"
   },
   "outputs": [],
   "source": [
    "def new_fc_layer(input_img,          # The previous layer.\n",
    "                 num_inputs,         # Num. inputs from prev. layer.\n",
    "                 num_outputs,        # Num. outputs.\n",
    "                 use_ReLU=True):     # Use ReLU in layers before final layer  \n",
    "\n",
    "    # Create new weights (using Xavier initialisation) and biases.\n",
    "    weights = tf.Variable(tf.contrib.layers.xavier_initializer()([num_inputs, num_outputs]))\n",
    "    biases = new_biases(length=num_outputs)\n",
    "\n",
    "    # Calculate the layer as the matrix multiplication of\n",
    "    # the input and weights, and then add the bias-values.\n",
    "    layer = tf.matmul(input_img, weights) + biases\n",
    "\n",
    "    # Use ReLU activation function\n",
    "    if use_ReLU:\n",
    "        layer = tf.nn.relu(layer)\n",
    "\n",
    "    return layer"
   ]
  },
  {
   "cell_type": "markdown",
   "metadata": {
    "colab_type": "text",
    "id": "r0B2RCZUwAs5"
   },
   "source": [
    "### Placeholder variables\n",
    "Placeholder variables serve as the input to the graph that we may change each time we execute the graph. This is known as feeding the placeholder variables.\n",
    "\n",
    "First we define the placeholder variable for the *input* *images*. This allows us to change the images that are input to the TensorFlow graph. This is a tensor, which just means that it is a multi-dimensional vector or matrix. The data-type is set to `float64` and the shape is set to `[None, img_size_flat]`, where None means that the tensor may hold an arbitrary number of images with each image being a vector of length `img_size_flat`."
   ]
  },
  {
   "cell_type": "code",
   "execution_count": 0,
   "metadata": {
    "colab": {},
    "colab_type": "code",
    "id": "oarQGCMAwAs7"
   },
   "outputs": [],
   "source": [
    "X = tf.placeholder(name='Input', dtype=tf.float32, shape=[None, img_size_flat])"
   ]
  },
  {
   "cell_type": "markdown",
   "metadata": {
    "colab_type": "text",
    "id": "zkLSGWjPwAtA"
   },
   "source": [
    "The convolutional layers expect x to be encoded as a 4-dim tensor so we have to reshape it so its shape is instead `[num_images, img_height, img_width, num_channels]`. Note that `img_height == img_width == img_size` and `num_images` can be inferred automatically by using `-1` for the size of the first dimension. So the reshape operation is:"
   ]
  },
  {
   "cell_type": "code",
   "execution_count": 0,
   "metadata": {
    "colab": {},
    "colab_type": "code",
    "id": "vTaGF5pGwAtB"
   },
   "outputs": [],
   "source": [
    "X_image = tf.reshape(X, [-1, img_size, img_size, num_channels])"
   ]
  },
  {
   "cell_type": "markdown",
   "metadata": {
    "colab_type": "text",
    "id": "qYOB_1kqwAtE"
   },
   "source": [
    "Finally, we have the placeholder variable for the **desired/predicted** one-hot encoded labels associated with the images that were input in the placeholder variable `X`. The shape of this placeholder variable is `[None, num_classes]` which means it may hold an arbitrary number of them and each one-hot encoded labels is a vector of length num_classes which is 10 in this case."
   ]
  },
  {
   "cell_type": "code",
   "execution_count": 0,
   "metadata": {
    "colab": {},
    "colab_type": "code",
    "id": "iJ7-E51JwAtH"
   },
   "outputs": [],
   "source": [
    "y_true_hot = tf.placeholder(name='Outputs', dtype=tf.float32, shape=[None, num_classes])"
   ]
  },
  {
   "cell_type": "markdown",
   "metadata": {
    "colab_type": "text",
    "id": "ZvoXSfkTwAtK"
   },
   "source": [
    "Next we have the placeholder variable for the **desired/predicted** *labels* of each image in the placeholder variable `X`. These are integers and the dimensionality of this placeholder variable is set to `[None]` which means the placeholder variable is a one-dimensional vector of arbitrary length."
   ]
  },
  {
   "cell_type": "code",
   "execution_count": 0,
   "metadata": {
    "colab": {},
    "colab_type": "code",
    "id": "pXvHqpzbwAtL"
   },
   "outputs": [],
   "source": [
    "y_true = tf.argmax(y_true_hot, axis=1)"
   ]
  },
  {
   "cell_type": "markdown",
   "metadata": {
    "colab_type": "text",
    "id": "N9nRNNuMwAtO"
   },
   "source": [
    "### Convolutional Layer 1\n",
    "Create the first convolutional layer. It takes `X_image` as input and creates num_filters1 different filters, each having width and height equal to `filter_size1`. Finally we wish to down-sample the image so it is half the size by using 2x2 max-pooling."
   ]
  },
  {
   "cell_type": "code",
   "execution_count": 19,
   "metadata": {
    "colab": {
     "base_uri": "https://localhost:8080/",
     "height": 89
    },
    "colab_type": "code",
    "id": "78WF_hf8wAtP",
    "outputId": "8b2ac716-cd39-4718-e66b-1cf8ce4a9fbf"
   },
   "outputs": [
    {
     "name": "stdout",
     "output_type": "stream",
     "text": [
      "WARNING:tensorflow:From /usr/local/lib/python3.6/dist-packages/tensorflow/python/framework/op_def_library.py:263: colocate_with (from tensorflow.python.framework.ops) is deprecated and will be removed in a future version.\n",
      "Instructions for updating:\n",
      "Colocations handled automatically by placer.\n"
     ]
    }
   ],
   "source": [
    "layer_conv_1, weights_conv_1 = \\\n",
    "    new_conv_layer(input_img=X_image, \n",
    "                   num_input_channels=num_channels, \n",
    "                   filter_size=filter_size_1, \n",
    "                   num_filters=num_filters_1, \n",
    "                   use_pooling=True)"
   ]
  },
  {
   "cell_type": "markdown",
   "metadata": {
    "colab_type": "text",
    "id": "k5d5uRiHwAtS"
   },
   "source": [
    "Check the shape of the tensor that will be output by the convolutional layer. It should be `(?, 14, 14, 16)` which means that there is an arbitrary number of images (indicated by `?`), each image is `14` pixels wide and `14` pixels high, and there are `16` different channels, `1` channel for each of the `5 x 5 x 1` filters and we have `16` of them."
   ]
  },
  {
   "cell_type": "code",
   "execution_count": 20,
   "metadata": {
    "colab": {
     "base_uri": "https://localhost:8080/",
     "height": 55
    },
    "colab_type": "code",
    "id": "U03APYsJwAtU",
    "outputId": "ef69bf5c-d73f-4831-e95a-7eecaed63ed6"
   },
   "outputs": [
    {
     "data": {
      "text/plain": [
       "<tf.Tensor 'Relu:0' shape=(?, 14, 14, 16) dtype=float32>"
      ]
     },
     "execution_count": 20,
     "metadata": {
      "tags": []
     },
     "output_type": "execute_result"
    }
   ],
   "source": [
    "layer_conv_1"
   ]
  },
  {
   "cell_type": "markdown",
   "metadata": {
    "colab_type": "text",
    "id": "LeKD1xfYwAtY"
   },
   "source": [
    "### Convolutional Layer 2\n",
    "Create the second convolutional layer, which takes as input the output from the first convolutional layer. The number of input channels corresponds to the number of filters in the first convolutional layer."
   ]
  },
  {
   "cell_type": "code",
   "execution_count": 0,
   "metadata": {
    "colab": {},
    "colab_type": "code",
    "id": "YuZup4bXwAtZ"
   },
   "outputs": [],
   "source": [
    "layer_conv_2, weights_conv_2 = \\\n",
    "    new_conv_layer(input_img=layer_conv_1,\n",
    "                  num_input_channels=num_filters_1,\n",
    "                  filter_size=filter_size_2,\n",
    "                  num_filters=num_filters_2,\n",
    "                  use_pooling=True)"
   ]
  },
  {
   "cell_type": "markdown",
   "metadata": {
    "colab_type": "text",
    "id": "aDI3piLBwAtd"
   },
   "source": [
    "Check the shape of the tensor that will be output from this convolutional layer. The shape is `(?, 7, 7, 36)` where `?` means that there is an arbitrary number of images, with each image having width and height of `7` pixels, and there are `36` different channels, `1` channel for each `5 x 5 x 16` filter and we have `36` of them."
   ]
  },
  {
   "cell_type": "code",
   "execution_count": 22,
   "metadata": {
    "colab": {
     "base_uri": "https://localhost:8080/",
     "height": 55
    },
    "colab_type": "code",
    "id": "W1QlK_9ewAte",
    "outputId": "27467c54-c33c-46ae-e3c6-4344e1fc3884"
   },
   "outputs": [
    {
     "data": {
      "text/plain": [
       "<tf.Tensor 'Relu_1:0' shape=(?, 7, 7, 36) dtype=float32>"
      ]
     },
     "execution_count": 22,
     "metadata": {
      "tags": []
     },
     "output_type": "execute_result"
    }
   ],
   "source": [
    "layer_conv_2"
   ]
  },
  {
   "cell_type": "markdown",
   "metadata": {
    "colab_type": "text",
    "id": "Rqdv16mwwAtj"
   },
   "source": [
    "### Flatten Layer\n",
    "The convolutional layers output 4-dim tensors. We now wish to use these as input in a fully-connected network, which requires for the tensors to be reshaped or flattened to 2-dim tensors."
   ]
  },
  {
   "cell_type": "code",
   "execution_count": 0,
   "metadata": {
    "colab": {},
    "colab_type": "code",
    "id": "jiAKvknawAtk"
   },
   "outputs": [],
   "source": [
    "layer_flat, num_features = flatten_layer(layer_conv_2)"
   ]
  },
  {
   "cell_type": "markdown",
   "metadata": {
    "colab_type": "text",
    "id": "3JTXYy_EwAtn"
   },
   "source": [
    "Check that the tensors now have shape `(?, 1764)` which means there's an arbitrary number of images which have been flattened to vectors of length `1764` each. Note that `1764 = 7 x 7 x 36`."
   ]
  },
  {
   "cell_type": "code",
   "execution_count": 24,
   "metadata": {
    "colab": {
     "base_uri": "https://localhost:8080/",
     "height": 55
    },
    "colab_type": "code",
    "id": "rsOsAoTNwAtp",
    "outputId": "c3f4573c-bf5c-460c-9f60-c8e7cb4e636e"
   },
   "outputs": [
    {
     "data": {
      "text/plain": [
       "<tf.Tensor 'Reshape_1:0' shape=(?, 1764) dtype=float32>"
      ]
     },
     "execution_count": 24,
     "metadata": {
      "tags": []
     },
     "output_type": "execute_result"
    }
   ],
   "source": [
    "layer_flat"
   ]
  },
  {
   "cell_type": "code",
   "execution_count": 25,
   "metadata": {
    "colab": {
     "base_uri": "https://localhost:8080/",
     "height": 55
    },
    "colab_type": "code",
    "id": "hIWs-cy1wAtu",
    "outputId": "55ca55f5-09fd-41ec-85ba-4e265aa595a3"
   },
   "outputs": [
    {
     "data": {
      "text/plain": [
       "1764"
      ]
     },
     "execution_count": 25,
     "metadata": {
      "tags": []
     },
     "output_type": "execute_result"
    }
   ],
   "source": [
    "num_features"
   ]
  },
  {
   "cell_type": "markdown",
   "metadata": {
    "colab_type": "text",
    "id": "t8i536LBwAt0"
   },
   "source": [
    "### Fully-Connected Layer 1\n",
    "Add a fully-connected layer to the network. The input is the flattened layer from the previous convolution. The number of neurons or nodes in the fully-connected layer is `fc_size`. `ReLU` is used the activation function."
   ]
  },
  {
   "cell_type": "code",
   "execution_count": 26,
   "metadata": {
    "colab": {
     "base_uri": "https://localhost:8080/",
     "height": 159
    },
    "colab_type": "code",
    "id": "4wlWPCT8wAt3",
    "outputId": "ab690dcd-b6c9-4542-c6aa-5ef5cf0d4c39"
   },
   "outputs": [
    {
     "name": "stdout",
     "output_type": "stream",
     "text": [
      "\n",
      "WARNING: The TensorFlow contrib module will not be included in TensorFlow 2.0.\n",
      "For more information, please see:\n",
      "  * https://github.com/tensorflow/community/blob/master/rfcs/20180907-contrib-sunset.md\n",
      "  * https://github.com/tensorflow/addons\n",
      "If you depend on functionality not listed there, please file an issue.\n",
      "\n"
     ]
    }
   ],
   "source": [
    "layer_fc_1 = new_fc_layer(input_img=layer_flat, num_inputs=num_features, num_outputs=fc_size)"
   ]
  },
  {
   "cell_type": "markdown",
   "metadata": {
    "colab_type": "text",
    "id": "H7r4jrEuwAuC"
   },
   "source": [
    "Check that the output of the fully-connected layer is a tensor with shape `(?, 128)` where there are an arbitrary number of images and `fc_size == 128`."
   ]
  },
  {
   "cell_type": "code",
   "execution_count": 27,
   "metadata": {
    "colab": {
     "base_uri": "https://localhost:8080/",
     "height": 55
    },
    "colab_type": "code",
    "id": "H_BVAn27wAuC",
    "outputId": "3b79ad92-e142-4850-b8da-5a67b55459d4"
   },
   "outputs": [
    {
     "data": {
      "text/plain": [
       "<tf.Tensor 'Relu_2:0' shape=(?, 128) dtype=float32>"
      ]
     },
     "execution_count": 27,
     "metadata": {
      "tags": []
     },
     "output_type": "execute_result"
    }
   ],
   "source": [
    "layer_fc_1"
   ]
  },
  {
   "cell_type": "markdown",
   "metadata": {
    "colab_type": "text",
    "id": "qXeBHld5wAuI"
   },
   "source": [
    "### Fully-Connected Layer 2\n",
    "Add another fully-connected layer that outputs vectors of length `10` for determining which of the `10` classes the input image belongs to. We will use `SoftMax` as acitvation activation. "
   ]
  },
  {
   "cell_type": "code",
   "execution_count": 0,
   "metadata": {
    "colab": {},
    "colab_type": "code",
    "id": "OhlYtq9-wAuJ"
   },
   "outputs": [],
   "source": [
    "layer_fc_2 = new_fc_layer(input_img=layer_fc_1,\n",
    "                         num_inputs=fc_size,\n",
    "                         num_outputs=num_classes,\n",
    "                         use_ReLU=False)"
   ]
  },
  {
   "cell_type": "code",
   "execution_count": 29,
   "metadata": {
    "colab": {
     "base_uri": "https://localhost:8080/",
     "height": 55
    },
    "colab_type": "code",
    "id": "wk8V_fuowAuO",
    "outputId": "b6719631-c6af-45bb-a5d7-6ed9955079d8"
   },
   "outputs": [
    {
     "data": {
      "text/plain": [
       "<tf.Tensor 'add_3:0' shape=(?, 10) dtype=float32>"
      ]
     },
     "execution_count": 29,
     "metadata": {
      "tags": []
     },
     "output_type": "execute_result"
    }
   ],
   "source": [
    "# Check the output shape\n",
    "layer_fc_2"
   ]
  },
  {
   "cell_type": "markdown",
   "metadata": {
    "colab_type": "text",
    "id": "Qvcuyx2DwAuT"
   },
   "source": [
    "### Predicted Class\n",
    "The second fully-connected layer estimates how likely it is that the input image belongs to each of the 10 classes. However, these estimates are a bit rough and difficult to interpret because the numbers may be very small or large, so we want to normalize them so that each element is limited between zero and one and the 10 elements sum to one. This is calculated using the so-called softmax function and the result is stored in `y_pred`."
   ]
  },
  {
   "cell_type": "code",
   "execution_count": 0,
   "metadata": {
    "colab": {},
    "colab_type": "code",
    "id": "Oc2cmmYzwAuU"
   },
   "outputs": [],
   "source": [
    "y_pred_raw_prob = tf.nn.softmax(layer_fc_2)"
   ]
  },
  {
   "cell_type": "markdown",
   "metadata": {
    "colab_type": "text",
    "id": "byWXW-n0wAuX"
   },
   "source": [
    "The class-number is the index of the largest element."
   ]
  },
  {
   "cell_type": "code",
   "execution_count": 0,
   "metadata": {
    "colab": {},
    "colab_type": "code",
    "id": "af-qk7enwAuZ"
   },
   "outputs": [],
   "source": [
    "y_pred = tf.argmax(y_pred_raw_prob, axis=1)"
   ]
  },
  {
   "cell_type": "markdown",
   "metadata": {
    "colab_type": "text",
    "id": "5M1XeHF9wAuc"
   },
   "source": [
    "### Cost-function to be optimized\n",
    "To make the model better at classifying the input images, we must somehow change the variables for `weights` and `biases`. To do this we first need to know how well the model currently performs by comparing the predicted output of the model `y_pred` to the desired output `y_true`.\n",
    "\n",
    "The **cross-entropy** is a performance measure used in classification. The cross-entropy is a continuous function that is always positive and if the predicted output of the model exactly matches the desired output then the cross-entropy equals zero. The goal of optimization is therefore to minimize the cross-entropy so it gets as close to zero as possible by changing the weights and biases of the model.\n",
    "\n",
    "TensorFlow has a built-in function for calculating the cross-entropy. Note that it uses the values of the **logits** i.e., locally induced fields because it also calculates the softmax internally. TensorFlow class *locally induced fields* as *logits*. For more refer [TensorFlow-cross-entropy](https://www.tensorflow.org/api_docs/python/tf/nn/softmax_cross_entropy_with_logits_v2)."
   ]
  },
  {
   "cell_type": "code",
   "execution_count": 0,
   "metadata": {
    "colab": {},
    "colab_type": "code",
    "id": "7n0PrvOwwAuc"
   },
   "outputs": [],
   "source": [
    "cross_entropy = tf.nn.softmax_cross_entropy_with_logits_v2(logits=layer_fc_2, labels=y_true_hot)"
   ]
  },
  {
   "cell_type": "markdown",
   "metadata": {
    "colab_type": "text",
    "id": "YQaE-TS1wAuf"
   },
   "source": [
    "We have now calculated the cross-entropy for each of the image classifications so we have a measure of how well the model performs on each image individually. But in order to use the cross-entropy to guide the optimization of the model's variables we need a single scalar value, so we simply take the average of the cross-entropy for all the image classifications."
   ]
  },
  {
   "cell_type": "code",
   "execution_count": 0,
   "metadata": {
    "colab": {},
    "colab_type": "code",
    "id": "4ARjH9_pwAuj"
   },
   "outputs": [],
   "source": [
    "cost = tf.reduce_mean(cross_entropy)"
   ]
  },
  {
   "cell_type": "markdown",
   "metadata": {
    "colab_type": "text",
    "id": "copPSVhdwAum"
   },
   "source": [
    "### Optimization method\n",
    "Now that we have a cost measure that must be minimized, we can then create an optimizer. In this case it is the `AdamOptimizer` which is an advanced form of `Gradient Descent`."
   ]
  },
  {
   "cell_type": "code",
   "execution_count": 0,
   "metadata": {
    "colab": {},
    "colab_type": "code",
    "id": "XemBBkJZwAun"
   },
   "outputs": [],
   "source": [
    "optimizer = tf.train.AdamOptimizer(learning_rate=1e-4).minimize(cost)"
   ]
  },
  {
   "cell_type": "markdown",
   "metadata": {
    "colab_type": "text",
    "id": "yDuoEWu6wAus"
   },
   "source": [
    "### Performance measures\n",
    "We need a few more performance measures to display the progress. Below: this is a vector of booleans whether the predicted class equals the true class of each image."
   ]
  },
  {
   "cell_type": "code",
   "execution_count": 0,
   "metadata": {
    "colab": {},
    "colab_type": "code",
    "id": "hig9MCACwAuu"
   },
   "outputs": [],
   "source": [
    "correct_prediction = tf.equal(y_pred, y_true)"
   ]
  },
  {
   "cell_type": "markdown",
   "metadata": {
    "colab_type": "text",
    "id": "oTr84l8GwAuw"
   },
   "source": [
    "This calculates the classification accuracy by first type-casting the vector of booleans to floats, so that False becomes 0 and True becomes 1, and then calculating the average of these numbers."
   ]
  },
  {
   "cell_type": "code",
   "execution_count": 0,
   "metadata": {
    "colab": {},
    "colab_type": "code",
    "id": "RUf-CPS1wAux"
   },
   "outputs": [],
   "source": [
    "accuracy = tf.reduce_mean(tf.cast(correct_prediction, tf.float32))"
   ]
  },
  {
   "cell_type": "markdown",
   "metadata": {
    "colab_type": "text",
    "id": "D9LIM4h0OKnk"
   },
   "source": [
    "# Part 4"
   ]
  },
  {
   "cell_type": "markdown",
   "metadata": {
    "colab_type": "text",
    "id": "VHNjp6c2wAu0"
   },
   "source": [
    "## TensorFlow Run"
   ]
  },
  {
   "cell_type": "markdown",
   "metadata": {
    "colab_type": "text",
    "id": "AtLJSY4fwAu1"
   },
   "source": [
    "### Create TensorFlow session\n",
    "Once the TensorFlow graph has been created, we have to create a TensorFlow session which is used to execute the graph."
   ]
  },
  {
   "cell_type": "code",
   "execution_count": 0,
   "metadata": {
    "colab": {},
    "colab_type": "code",
    "id": "xwzBtAblwAu1"
   },
   "outputs": [],
   "source": [
    "def tf_reset():\n",
    "    try:\n",
    "        sess.close()\n",
    "    except:\n",
    "        pass\n",
    "    return tf.Session()"
   ]
  },
  {
   "cell_type": "code",
   "execution_count": 0,
   "metadata": {
    "colab": {},
    "colab_type": "code",
    "id": "7M7jFTEywAu4"
   },
   "outputs": [],
   "source": [
    "sess = tf_reset()"
   ]
  },
  {
   "cell_type": "markdown",
   "metadata": {
    "colab_type": "text",
    "id": "AL2spQhcwAu8"
   },
   "source": [
    "### Initialize variables\n",
    "The variables for `weights` and `biases` must be initialized before we start optimizing them."
   ]
  },
  {
   "cell_type": "code",
   "execution_count": 0,
   "metadata": {
    "colab": {},
    "colab_type": "code",
    "id": "47O1r7T3wAu9"
   },
   "outputs": [],
   "source": [
    "# Initialize the variables\n",
    "sess.run(tf.global_variables_initializer())"
   ]
  },
  {
   "cell_type": "markdown",
   "metadata": {
    "colab_type": "text",
    "id": "rLeWuB25wAu_"
   },
   "source": [
    "### Helper-function to perform optimization iterations\n",
    "There are 55000 images in the training-set. It takes a long time to calculate the gradient of the model using all these images. We therefore use *Batch Stochastic Gradient Descent with Adam Optimizer* which only uses a small batch of images in each iteration of the optimizer."
   ]
  },
  {
   "cell_type": "code",
   "execution_count": 0,
   "metadata": {
    "colab": {},
    "colab_type": "code",
    "id": "HCMqHNUawAvA"
   },
   "outputs": [],
   "source": [
    "batch_size = 64"
   ]
  },
  {
   "cell_type": "markdown",
   "metadata": {
    "colab_type": "text",
    "id": "r1-2TQBBwAvD"
   },
   "source": [
    "Function for performing a number of optimization iterations so as to gradually improve the `weights` and `biases` of the model. In each iteration, a new batch of data is selected from the training-set and then TensorFlow executes the optimizer using those training samples."
   ]
  },
  {
   "cell_type": "code",
   "execution_count": 0,
   "metadata": {
    "colab": {},
    "colab_type": "code",
    "id": "HRrR0jObwAvF"
   },
   "outputs": [],
   "source": [
    "# Run training\n",
    "# Counter for total number of iterations performed so far.\n",
    "total_iterations = 0\n",
    "\n",
    "def optimize(iterations, verbose_freq=100):\n",
    "    # Ensure we update the global variable rather than a local copy.\n",
    "    global total_iterations\n",
    "    \n",
    "    for i in range(total_iterations, total_iterations+iterations):\n",
    "        # get a random subset/batch of the training data\n",
    "        # x_batch now holds a batch of images and\n",
    "        # y_true_batch are the true labels for those images.\n",
    "        X_batch, y_true_batch, y_true_hot_batch = data.random_batch(train_img, train_label, hot_label_train, \n",
    "                                                                        batch_size=batch_size)\n",
    "\n",
    "        # run the optimizer and get the mse\n",
    "        _, cost_run = sess.run([optimizer, cost], feed_dict={X: X_batch, y_true_hot: y_true_hot_batch})\n",
    "\n",
    "        # print the mse every so often\n",
    "        if i % verbose_freq == 0:\n",
    "            acc = sess.run(accuracy, feed_dict={X: X_batch, y_true_hot: y_true_hot_batch})\n",
    "            print('Epoch: {0:d} Training Accuracy: {1:0.3f} Training Cost: {2:0.3f}'.format(i, acc, cost_run))"
   ]
  },
  {
   "cell_type": "markdown",
   "metadata": {
    "colab_type": "text",
    "id": "U71q5mQHwAvI"
   },
   "source": [
    "### Helper-functions to show performance\n",
    "Function for printing the classification accuracy on the test-set."
   ]
  },
  {
   "cell_type": "code",
   "execution_count": 0,
   "metadata": {
    "colab": {},
    "colab_type": "code",
    "id": "IkrcxPf6wAvJ"
   },
   "outputs": [],
   "source": [
    "def print_accuracy():\n",
    "    # Use TensorFlow to compute the accuracy.\n",
    "    acc = sess.run(accuracy, feed_dict={X: test_img, y_true: test_label, y_true_hot: hot_label_test})\n",
    "    \n",
    "    # Print the accuracy.\n",
    "    print(\"Accuracy on test-set: {0:.1%}\".format(acc))"
   ]
  },
  {
   "cell_type": "markdown",
   "metadata": {
    "colab_type": "text",
    "id": "rGCVWizkwAvL"
   },
   "source": [
    "### Helper-function to plot confusion matrix\n",
    "Function for printing and plotting the confusion matrix using scikit-learn."
   ]
  },
  {
   "cell_type": "code",
   "execution_count": 0,
   "metadata": {
    "colab": {},
    "colab_type": "code",
    "id": "HJEspKElwAvM"
   },
   "outputs": [],
   "source": [
    "def plot_confusion_matrix(cls_pred, color_map='viridis'):\n",
    "    # This is called from print_test_accuracy() below.\n",
    "\n",
    "    # cls_pred is an array of the predicted class-number for\n",
    "    # all images in the test-set.\n",
    "\n",
    "    # Get the true classifications for the test-set.\n",
    "    cls_true = test_label\n",
    "    \n",
    "    # Get the confusion matrix using sklearn.\n",
    "    cm = confusion_matrix(y_true=cls_true, y_pred=cls_pred)\n",
    "\n",
    "    # Print the confusion matrix as text.\n",
    "    print(cm)\n",
    "\n",
    "    # Plot the confusion matrix as an image.\n",
    "    plt.figure(figsize=(8, 6))\n",
    "    plt.matshow(cm, cmap=color_map)\n",
    "\n",
    "    # Make various adjustments to the plot.\n",
    "    plt.colorbar()\n",
    "    tick_marks = np.arange(num_classes)\n",
    "    plt.xticks(tick_marks, range(num_classes))\n",
    "    plt.yticks(tick_marks, range(num_classes))\n",
    "    plt.xlabel('Predicted')\n",
    "    plt.ylabel('True')\n",
    "\n",
    "    # Ensure the plot is shown correctly with multiple plots\n",
    "    # in a single Notebook cell.\n",
    "    plt.show()"
   ]
  },
  {
   "cell_type": "markdown",
   "metadata": {
    "colab_type": "text",
    "id": "5HOvFiFkwAvO"
   },
   "source": [
    "### Helper-function to plot example errors\n",
    "Function for plotting examples of images from the test-set that have been mis-classified."
   ]
  },
  {
   "cell_type": "code",
   "execution_count": 0,
   "metadata": {
    "colab": {},
    "colab_type": "code",
    "id": "2fVuzbDJwAvO"
   },
   "outputs": [],
   "source": [
    "def plot_example_errors(cls_pred, correct):\n",
    "    # This function is called from print_test_accuracy() below.\n",
    "\n",
    "    # cls_pred is an array of the predicted class-number for\n",
    "    # all images in the test-set.\n",
    "\n",
    "    # correct is a boolean array whether the predicted class\n",
    "    # is equal to the true class for each image in the test-set.\n",
    "\n",
    "    # Negate the boolean array.\n",
    "    incorrect = (correct == False)\n",
    "    \n",
    "    # Get the images from the test-set that have been\n",
    "    # incorrectly classified.\n",
    "    images = test_img[incorrect]\n",
    "    \n",
    "    # Get the predicted classes for those images.\n",
    "    cls_pred = cls_pred[incorrect]\n",
    "\n",
    "    # Get the true classes for those images.\n",
    "    cls_true = test_label[incorrect]\n",
    "    \n",
    "    # Plot the first 9 images.\n",
    "    plot_images(images=images[0:9], cls_true=cls_true[0:9], cls_pred=cls_pred[0:9])"
   ]
  },
  {
   "cell_type": "markdown",
   "metadata": {
    "colab_type": "text",
    "id": "zxetkAIbwAvQ"
   },
   "source": [
    "### Helper-function for showing the performance\n",
    "Function for printing the classification accuracy on the test-set.\n",
    "\n",
    "It takes a while to compute the classification for all the images in the test-set, that's why the results are re-used by calling the above functions directly from this function, so the classifications don't have to be recalculated by each function."
   ]
  },
  {
   "cell_type": "code",
   "execution_count": 0,
   "metadata": {
    "colab": {},
    "colab_type": "code",
    "id": "Uo8tQ_IAwAvR"
   },
   "outputs": [],
   "source": [
    "# Split the test-set into smaller batches of this size.\n",
    "test_batch_size = 256\n",
    "\n",
    "def print_test_accuracy(show_example_errors=False,\n",
    "                        show_confusion_matrix=False):\n",
    "\n",
    "    # Number of images in the test-set.\n",
    "    num_test = data.num_test\n",
    "\n",
    "    # Allocate an array for the predicted classes which\n",
    "    # will be calculated in batches and filled into this array.\n",
    "    cls_pred = np.zeros(shape=num_test, dtype=np.int)\n",
    "\n",
    "    # Now calculate the predicted classes for the batches.\n",
    "    # We will just iterate through all the batches.\n",
    "    # There might be a more clever and Pythonic way of doing this.\n",
    "\n",
    "    # The starting index for the next batch is denoted i.\n",
    "    i = 0\n",
    "\n",
    "    while i < num_test:\n",
    "        # The ending index for the next batch is denoted j.\n",
    "        j = min(i + test_batch_size, num_test)\n",
    "\n",
    "        # Get the images from the test-set between index i and j.\n",
    "        images = test_img[i:j, :]\n",
    "\n",
    "        # Get the associated labels.\n",
    "        labels = hot_label_test[i:j, :]\n",
    "\n",
    "        # Calculate the predicted class using TensorFlow.\n",
    "        cls_pred[i:j] = sess.run(y_pred, feed_dict={X: images, y_true_hot: labels})\n",
    "\n",
    "        # Set the start-index for the next batch to the\n",
    "        # end-index of the current batch.\n",
    "        i = j\n",
    "\n",
    "    # Convenience variable for the true class-numbers of the test-set.\n",
    "    cls_true = test_label\n",
    "\n",
    "    # Create a boolean array whether each image is correctly classified.\n",
    "    correct = (cls_true == cls_pred)\n",
    "\n",
    "    # Calculate the number of correctly classified images.\n",
    "    # When summing a boolean array, False means 0 and True means 1.\n",
    "    correct_sum = correct.sum()\n",
    "\n",
    "    # Classification accuracy is the number of correctly classified\n",
    "    # images divided by the total number of images in the test-set.\n",
    "    acc = float(correct_sum) / num_test\n",
    "\n",
    "    # Print the accuracy.\n",
    "    msg = \"Accuracy on Test-Set: {0:.1%} ({1} / {2})\"\n",
    "    print(msg.format(acc, correct_sum, num_test))\n",
    "\n",
    "    # Plot some examples of mis-classifications, if desired.\n",
    "    if show_example_errors:\n",
    "        print(\"Example errors:\")\n",
    "        plot_example_errors(cls_pred=cls_pred, correct=correct)\n",
    "\n",
    "    # Plot the confusion matrix, if desired.\n",
    "    if show_confusion_matrix:\n",
    "        print(\"Confusion Matrix:\")\n",
    "        plot_confusion_matrix(cls_pred=cls_pred)"
   ]
  },
  {
   "cell_type": "markdown",
   "metadata": {
    "colab_type": "text",
    "id": "2S9FCpMuOKoE"
   },
   "source": [
    "# Part 5"
   ]
  },
  {
   "cell_type": "markdown",
   "metadata": {
    "colab_type": "text",
    "id": "j5SKS_MFwAvT"
   },
   "source": [
    "### Performance before any optimization\n",
    "The accuracy on the test-set will be vary low around 10%. This is because the model has only been initialized and not optimized at all, so it always predicts that the image shows a zero digit."
   ]
  },
  {
   "cell_type": "code",
   "execution_count": 46,
   "metadata": {
    "colab": {
     "base_uri": "https://localhost:8080/",
     "height": 55
    },
    "colab_type": "code",
    "id": "zP2aCgyLwAvU",
    "outputId": "649f42da-15cb-43a8-e93b-5dc171e6bd09"
   },
   "outputs": [
    {
     "name": "stdout",
     "output_type": "stream",
     "text": [
      "Accuracy on Test-Set: 10.1% (1010 / 10000)\n"
     ]
    }
   ],
   "source": [
    "print_test_accuracy()"
   ]
  },
  {
   "cell_type": "markdown",
   "metadata": {
    "colab_type": "text",
    "id": "B7e0XgeowAvY"
   },
   "source": [
    "### Performance after 10 optimization iteration"
   ]
  },
  {
   "cell_type": "code",
   "execution_count": 47,
   "metadata": {
    "colab": {
     "base_uri": "https://localhost:8080/",
     "height": 35
    },
    "colab_type": "code",
    "id": "bqpuI4-8wAvY",
    "outputId": "7302b0a4-3b57-412b-afae-4dd9c0430338"
   },
   "outputs": [
    {
     "name": "stdout",
     "output_type": "stream",
     "text": [
      "Epoch: 0 Training Accuracy: 0.141 Training Cost: 2.328\n"
     ]
    }
   ],
   "source": [
    "optimize(iterations=10)"
   ]
  },
  {
   "cell_type": "code",
   "execution_count": 48,
   "metadata": {
    "colab": {
     "base_uri": "https://localhost:8080/",
     "height": 35
    },
    "colab_type": "code",
    "id": "rb6uHub5wAvc",
    "outputId": "c0e4639e-7172-4ccd-b709-8a7861380f78"
   },
   "outputs": [
    {
     "name": "stdout",
     "output_type": "stream",
     "text": [
      "Accuracy on Test-Set: 24.3% (2433 / 10000)\n"
     ]
    }
   ],
   "source": [
    "print_test_accuracy()"
   ]
  },
  {
   "cell_type": "markdown",
   "metadata": {
    "colab_type": "text",
    "id": "QzeonIjiwAvg"
   },
   "source": [
    "### Performance after 100 optimization iterations"
   ]
  },
  {
   "cell_type": "code",
   "execution_count": 49,
   "metadata": {
    "colab": {
     "base_uri": "https://localhost:8080/",
     "height": 35
    },
    "colab_type": "code",
    "id": "fPmQGz-lwAvi",
    "outputId": "9a5f860f-0d79-4bcb-daf2-f7a1d441601a"
   },
   "outputs": [
    {
     "name": "stdout",
     "output_type": "stream",
     "text": [
      "Epoch: 0 Training Accuracy: 0.281 Training Cost: 2.242\n"
     ]
    }
   ],
   "source": [
    "optimize(iterations=90) # We already performed 10 iterations"
   ]
  },
  {
   "cell_type": "code",
   "execution_count": 50,
   "metadata": {
    "colab": {
     "base_uri": "https://localhost:8080/",
     "height": 301
    },
    "colab_type": "code",
    "id": "Sep60x_IwAvl",
    "outputId": "74bd427a-9958-4124-b4cd-5436ec101157"
   },
   "outputs": [
    {
     "name": "stdout",
     "output_type": "stream",
     "text": [
      "Accuracy on Test-Set: 70.4% (7036 / 10000)\n",
      "Example errors:\n"
     ]
    },
    {
     "data": {
      "image/png": "[encoded data removed]",
      "text/plain": [
       "<Figure size 432x288 with 9 Axes>"
      ]
     },
     "metadata": {
      "tags": []
     },
     "output_type": "display_data"
    }
   ],
   "source": [
    "print_test_accuracy(show_example_errors=True)"
   ]
  },
  {
   "cell_type": "markdown",
   "metadata": {
    "colab_type": "text",
    "id": "aY2MsOClwAvn"
   },
   "source": [
    "### Performance after 1000 optimization iterations"
   ]
  },
  {
   "cell_type": "code",
   "execution_count": 51,
   "metadata": {
    "colab": {
     "base_uri": "https://localhost:8080/",
     "height": 173
    },
    "colab_type": "code",
    "id": "SXXvdaLmwAvo",
    "outputId": "e533e72c-896e-4095-8f23-e670067c9f42"
   },
   "outputs": [
    {
     "name": "stdout",
     "output_type": "stream",
     "text": [
      "Epoch: 0 Training Accuracy: 0.672 Training Cost: 1.398\n",
      "Epoch: 100 Training Accuracy: 0.875 Training Cost: 0.517\n",
      "Epoch: 200 Training Accuracy: 0.906 Training Cost: 0.366\n",
      "Epoch: 300 Training Accuracy: 0.906 Training Cost: 0.483\n",
      "Epoch: 400 Training Accuracy: 0.922 Training Cost: 0.280\n",
      "Epoch: 500 Training Accuracy: 0.953 Training Cost: 0.239\n",
      "Epoch: 600 Training Accuracy: 0.891 Training Cost: 0.346\n",
      "Epoch: 700 Training Accuracy: 0.906 Training Cost: 0.321\n",
      "Epoch: 800 Training Accuracy: 0.969 Training Cost: 0.124\n"
     ]
    }
   ],
   "source": [
    "optimize(iterations=900)"
   ]
  },
  {
   "cell_type": "code",
   "execution_count": 52,
   "metadata": {
    "colab": {
     "base_uri": "https://localhost:8080/",
     "height": 301
    },
    "colab_type": "code",
    "id": "mByMZtLLwAvr",
    "outputId": "c844f7f1-d89e-4664-dbc5-26922d925e33"
   },
   "outputs": [
    {
     "name": "stdout",
     "output_type": "stream",
     "text": [
      "Accuracy on Test-Set: 93.9% (9389 / 10000)\n",
      "Example errors:\n"
     ]
    },
    {
     "data": {
      "image/png": "[encoded data removed]",
      "text/plain": [
       "<Figure size 432x288 with 9 Axes>"
      ]
     },
     "metadata": {
      "tags": []
     },
     "output_type": "display_data"
    }
   ],
   "source": [
    "print_test_accuracy(show_example_errors=True)"
   ]
  },
  {
   "cell_type": "markdown",
   "metadata": {
    "colab_type": "text",
    "id": "br-t13J-wAvt"
   },
   "source": [
    "### Performance after 10000 optimization iterations"
   ]
  },
  {
   "cell_type": "code",
   "execution_count": 53,
   "metadata": {
    "colab": {
     "base_uri": "https://localhost:8080/",
     "height": 173
    },
    "colab_type": "code",
    "id": "xib1EXdnwAvv",
    "outputId": "cf9d65fd-af1a-43ba-bc72-bc322cf88a36",
    "scrolled": true
   },
   "outputs": [
    {
     "name": "stdout",
     "output_type": "stream",
     "text": [
      "Epoch: 0 Training Accuracy: 0.922 Training Cost: 0.252\n",
      "Epoch: 1000 Training Accuracy: 0.922 Training Cost: 0.274\n",
      "Epoch: 2000 Training Accuracy: 1.000 Training Cost: 0.043\n",
      "Epoch: 3000 Training Accuracy: 0.984 Training Cost: 0.079\n",
      "Epoch: 4000 Training Accuracy: 0.984 Training Cost: 0.050\n",
      "Epoch: 5000 Training Accuracy: 0.984 Training Cost: 0.077\n",
      "Epoch: 6000 Training Accuracy: 0.969 Training Cost: 0.048\n",
      "Epoch: 7000 Training Accuracy: 1.000 Training Cost: 0.027\n",
      "Epoch: 8000 Training Accuracy: 1.000 Training Cost: 0.011\n"
     ]
    }
   ],
   "source": [
    "optimize(iterations=9000, verbose_freq=1000)"
   ]
  },
  {
   "cell_type": "code",
   "execution_count": 54,
   "metadata": {
    "colab": {
     "base_uri": "https://localhost:8080/",
     "height": 757
    },
    "colab_type": "code",
    "id": "YhT2FJ5MwAvy",
    "outputId": "dd9a877f-ea9e-41cb-c416-671aee14de51"
   },
   "outputs": [
    {
     "name": "stdout",
     "output_type": "stream",
     "text": [
      "Accuracy on Test-Set: 98.8% (9876 / 10000)\n",
      "Example errors:\n"
     ]
    },
    {
     "data": {
      "image/png": "[encoded data removed]",
      "text/plain": [
       "<Figure size 432x288 with 9 Axes>"
      ]
     },
     "metadata": {
      "tags": []
     },
     "output_type": "display_data"
    },
    {
     "name": "stdout",
     "output_type": "stream",
     "text": [
      "Confusion Matrix:\n",
      "[[ 976    0    0    0    0    0    1    1    2    0]\n",
      " [   0 1133    1    0    0    1    0    0    0    0]\n",
      " [   5    6 1008    0    2    0    0    9    2    0]\n",
      " [   1    0    0  999    0    5    0    2    2    1]\n",
      " [   0    0    0    0  976    0    0    0    1    5]\n",
      " [   2    0    0    3    0  881    1    2    1    2]\n",
      " [   6    2    0    1    1    7  940    0    1    0]\n",
      " [   0    2    3    2    0    0    0 1017    1    3]\n",
      " [   4    0    1    2    1    3    0    2  954    7]\n",
      " [   1    3    0    0    6    3    0    4    0  992]]\n"
     ]
    },
    {
     "data": {
      "text/plain": [
       "<Figure size 576x432 with 0 Axes>"
      ]
     },
     "metadata": {
      "tags": []
     },
     "output_type": "display_data"
    },
    {
     "data": {
      "image/png": "[encoded data removed]",
      "text/plain": [
       "<Figure size 288x288 with 2 Axes>"
      ]
     },
     "metadata": {
      "tags": []
     },
     "output_type": "display_data"
    }
   ],
   "source": [
    "print_test_accuracy(show_example_errors=True, show_confusion_matrix=True)"
   ]
  },
  {
   "cell_type": "markdown",
   "metadata": {
    "colab_type": "text",
    "id": "MjTxVcIUOKot"
   },
   "source": [
    "# Part 6"
   ]
  },
  {
   "cell_type": "markdown",
   "metadata": {
    "colab_type": "text",
    "id": "oUydCcz5OKov"
   },
   "source": [
    "### Visualization of Weights and Layers\n",
    "In trying to understand why the convolutional neural network can recognize handwritten digits, we can visualize the weights of the convolutional filters and the resulting output images."
   ]
  },
  {
   "cell_type": "markdown",
   "metadata": {
    "colab_type": "text",
    "id": "77JWQ6BbOKow"
   },
   "source": [
    "### Helper-function for plotting convolutional weights"
   ]
  },
  {
   "cell_type": "code",
   "execution_count": 0,
   "metadata": {
    "colab": {},
    "colab_type": "code",
    "id": "DeRj76iZOKoz"
   },
   "outputs": [],
   "source": [
    "def plot_conv_weights(weights, filter_no=0, color_map='seismic'):\n",
    "    # Assume weights are TensorFlow ops for 4-dim variables\n",
    "    # e.g. weights_conv1 or weights_conv2.\n",
    "    \n",
    "    # Retrieve the values of the weight-variables from TensorFlow.\n",
    "    # A feed-dict is not necessary because nothing is calculated.\n",
    "    w = sess.run(weights)\n",
    "    \n",
    "    # Get the lowest and highest values for the weights.\n",
    "    # This is used to correct the colour intensity across\n",
    "    # the images so they can be compared with each other.\n",
    "    w_min = np.min(w)\n",
    "    w_max = np.max(w)\n",
    "\n",
    "    # Number of filters used in the conv. layer.\n",
    "    num_filters = w.shape[3]\n",
    "    \n",
    "    # Number of channels used in the conv. layer.\n",
    "    num_channels = w.shape[2]\n",
    "    \n",
    "    # If we want to plot on filter then it would be of size (filter_width x filter_height x num_channels)\n",
    "    # In total we will have num_filters no. of filters\n",
    "    # Number of grids to plot.\n",
    "    # Rounded-up, square-root of the number of channels\n",
    "    num_grids = int(np.ceil(np.sqrt(num_channels)))\n",
    "    \n",
    "    if num_grids == 1:\n",
    "        print('Filter Shape:', w.shape[0], 'x', w.shape[0])\n",
    "        print('Filter Channels:', num_channels)\n",
    "        print('Hence each filter shape:', w.shape[0], 'x', w.shape[0], 'x', num_channels)\n",
    "        print('Total no. of filters:', num_filters)\n",
    "        print('Plotting ALL the Filters')\n",
    "        new_num_grids = int(np.ceil(np.sqrt(num_filters)))\n",
    "        fig, axes = plt.subplots(new_num_grids, new_num_grids)\n",
    "        for i, ax in enumerate(axes.flat):\n",
    "            if i < num_filters:\n",
    "                # Plot the image\n",
    "                img = w[:, :, 0, i]\n",
    "                ax.imshow(img, vmin=w_min, vmax=w_max, interpolation='nearest', cmap=color_map)\n",
    "                # Remove ticks from the plot.\n",
    "                ax.set_xticks([])\n",
    "                ax.set_yticks([])\n",
    "        plt.show()\n",
    "    else:\n",
    "        print('Filter Shape:', w.shape[0], 'x', w.shape[0])\n",
    "        print('Filter Channels:', num_channels)\n",
    "        print('Hence each filter shape:', w.shape[0], 'x', w.shape[0], 'x', num_channels)\n",
    "        print('Total no. of filters:', num_filters)\n",
    "        print('Plotting filter number:', filter_no)\n",
    "        # Create figure with a grid of sub-plots.\n",
    "        fig, axes = plt.subplots(num_grids, num_grids)\n",
    "        # Plot all the filter-weights.\n",
    "        for i, ax in enumerate(axes.flat):\n",
    "            # Only plot the valid filter-weights.\n",
    "            if i < num_filters:\n",
    "                # Get the weights for the i'th filter of the input channel.\n",
    "                # See new_conv_layer() for details on the format\n",
    "                # of this 4-dim tensor.\n",
    "                img = w[:, :, i, filter_no]\n",
    "                # Plot image.\n",
    "                ax.imshow(img, vmin=w_min, vmax=w_max, interpolation='nearest', cmap=color_map)\n",
    "            # Remove ticks from the plot.\n",
    "            ax.set_xticks([])\n",
    "            ax.set_yticks([])\n",
    "        # Ensure the plot is shown correctly with multiple plots\n",
    "        # in a single Notebook cell.\n",
    "        plt.show()"
   ]
  },
  {
   "cell_type": "markdown",
   "metadata": {
    "colab_type": "text",
    "id": "kCHvW8Y3OKo0"
   },
   "source": [
    "### Helper-function for plotting the output of a convolutional layer"
   ]
  },
  {
   "cell_type": "code",
   "execution_count": 0,
   "metadata": {
    "colab": {},
    "colab_type": "code",
    "id": "eqki1wTbOKo1"
   },
   "outputs": [],
   "source": [
    "def plot_conv_layer(layer, image, color_map='binary'):\n",
    "    # Assume layer is a TensorFlow op that outputs a 4-dim tensor\n",
    "    # which is the output of a convolutional layer,\n",
    "    # e.g. layer_conv1 or layer_conv2.\n",
    "\n",
    "    # Create a feed-dict containing just one image.\n",
    "    # Note that we don't need to feed y_true because it is\n",
    "    # not used in this calculation.\n",
    "    feed_dict = {X: [image]}\n",
    "\n",
    "    # Calculate and retrieve the output values of the layer\n",
    "    # when inputting that image.\n",
    "    values = sess.run(layer, feed_dict=feed_dict)\n",
    "\n",
    "    # Number of filters used in the conv. layer.\n",
    "    num_filters = values.shape[3]\n",
    "\n",
    "    # Number of grids to plot.\n",
    "    # Rounded-up, square-root of the number of filters.\n",
    "    num_grids = int(np.ceil(np.sqrt(num_filters)))\n",
    "    \n",
    "    # Create figure with a grid of sub-plots.\n",
    "    fig, axes = plt.subplots(num_grids, num_grids)\n",
    "\n",
    "    # Plot the output images of all the filters.\n",
    "    for i, ax in enumerate(axes.flat):\n",
    "        # Only plot the images for valid filters.\n",
    "        if i<num_filters:\n",
    "            # Get the output image of using the i'th filter.\n",
    "            # See new_conv_layer() for details on the format\n",
    "            # of this 4-dim tensor.\n",
    "            img = values[0, :, :, i]\n",
    "\n",
    "            # Plot image.\n",
    "            ax.imshow(img, interpolation='nearest', cmap=color_map)\n",
    "        \n",
    "        # Remove ticks from the plot.\n",
    "        ax.set_xticks([])\n",
    "        ax.set_yticks([])\n",
    "    \n",
    "    # Ensure the plot is shown correctly with multiple plots\n",
    "    # in a single Notebook cell.\n",
    "    plt.show()"
   ]
  },
  {
   "cell_type": "markdown",
   "metadata": {
    "colab_type": "text",
    "id": "uaeB4A2EOKo9"
   },
   "source": [
    "### Input Images\n",
    "Helper-function for plotting an image."
   ]
  },
  {
   "cell_type": "code",
   "execution_count": 0,
   "metadata": {
    "colab": {},
    "colab_type": "code",
    "id": "71Wn3xm9OKo9"
   },
   "outputs": [],
   "source": [
    "def plot_image(image):\n",
    "    plt.imshow(image.reshape(img_shape), interpolation='nearest', cmap='binary')\n",
    "    plt.show()"
   ]
  },
  {
   "cell_type": "code",
   "execution_count": 58,
   "metadata": {
    "colab": {
     "base_uri": "https://localhost:8080/",
     "height": 269
    },
    "colab_type": "code",
    "id": "dtXto8M0OKo_",
    "outputId": "39274191-9268-48a2-df12-6b374b1c2a41"
   },
   "outputs": [
    {
     "data": {
      "image/png": "[encoded data removed]",
      "text/plain": [
       "<Figure size 432x288 with 1 Axes>"
      ]
     },
     "metadata": {
      "tags": []
     },
     "output_type": "display_data"
    }
   ],
   "source": [
    "# Example:\n",
    "image_1 = test_img[0]\n",
    "plot_image(image_1)"
   ]
  },
  {
   "cell_type": "code",
   "execution_count": 59,
   "metadata": {
    "colab": {
     "base_uri": "https://localhost:8080/",
     "height": 269
    },
    "colab_type": "code",
    "id": "6vNHFsOkOKpB",
    "outputId": "a798dbe9-303e-4d88-f5ed-7ca76f691098"
   },
   "outputs": [
    {
     "data": {
      "image/png": "[encoded data removed]",
      "text/plain": [
       "<Figure size 432x288 with 1 Axes>"
      ]
     },
     "metadata": {
      "tags": []
     },
     "output_type": "display_data"
    }
   ],
   "source": [
    "# Example:\n",
    "image_2 = test_img[4]\n",
    "plot_image(image_2)"
   ]
  },
  {
   "cell_type": "markdown",
   "metadata": {
    "colab_type": "text",
    "id": "GSoPwy_lOKpD"
   },
   "source": [
    "### Convolution Layer 1\n",
    "Now plot the one or all (depending on no. of input channels) filter weights for the first convolutional layer. **Note** that positive weights are red and negative weights are blue."
   ]
  },
  {
   "cell_type": "code",
   "execution_count": 97,
   "metadata": {
    "colab": {
     "base_uri": "https://localhost:8080/",
     "height": 342
    },
    "colab_type": "code",
    "id": "_FoESxToOKpD",
    "outputId": "bccb0285-42c0-4c9b-8f6b-99700a53337c"
   },
   "outputs": [
    {
     "name": "stdout",
     "output_type": "stream",
     "text": [
      "Filter Shape: 5 x 5\n",
      "Filter Channels: 1\n",
      "Hence each filter shape: 5 x 5 x 1\n",
      "Total no. of filters: 16\n",
      "Plotting ALL the Filters\n"
     ]
    },
    {
     "data": {
      "image/png": "[encoded data removed]",
      "text/plain": [
       "<Figure size 432x288 with 16 Axes>"
      ]
     },
     "metadata": {
      "tags": []
     },
     "output_type": "display_data"
    }
   ],
   "source": [
    "plot_conv_weights(weights=weights_conv_1)"
   ]
  },
  {
   "cell_type": "markdown",
   "metadata": {
    "colab_type": "text",
    "id": "ZTWOtYZNOKpJ"
   },
   "source": [
    "Applying each of these convolutional filters to the first input image gives the following output images, which are then used as input to the second convolutional layer. **Note** that these images are down-sampled to `14 x 14` pixels which is half the resolution of the original input image."
   ]
  },
  {
   "cell_type": "code",
   "execution_count": 76,
   "metadata": {
    "colab": {
     "base_uri": "https://localhost:8080/",
     "height": 255
    },
    "colab_type": "code",
    "id": "847UHSXzOKpK",
    "outputId": "d77d800e-5856-4ab8-dfad-9dea0d154ca2"
   },
   "outputs": [
    {
     "data": {
      "image/png": "[encoded data removed]",
      "text/plain": [
       "<Figure size 432x288 with 16 Axes>"
      ]
     },
     "metadata": {
      "tags": []
     },
     "output_type": "display_data"
    }
   ],
   "source": [
    "plot_conv_layer(layer=layer_conv_1, image=image_1)"
   ]
  },
  {
   "cell_type": "markdown",
   "metadata": {
    "colab_type": "text",
    "id": "UkRX2xJROKpM"
   },
   "source": [
    "The following images are the results of applying the convolutional filters to the second image."
   ]
  },
  {
   "cell_type": "code",
   "execution_count": 77,
   "metadata": {
    "colab": {
     "base_uri": "https://localhost:8080/",
     "height": 255
    },
    "colab_type": "code",
    "id": "eS8LOunlOKpM",
    "outputId": "e2808e64-42fa-4549-bbfd-169b05cf6ce6"
   },
   "outputs": [
    {
     "data": {
      "image/png": "[encoded data removed]",
      "text/plain": [
       "<Figure size 432x288 with 16 Axes>"
      ]
     },
     "metadata": {
      "tags": []
     },
     "output_type": "display_data"
    }
   ],
   "source": [
    "plot_conv_layer(layer=layer_conv_1, image=image_2)"
   ]
  },
  {
   "cell_type": "markdown",
   "metadata": {
    "colab_type": "text",
    "id": "RP-dfBjHOKpP"
   },
   "source": [
    "### Convolution Layer 2\n",
    "Now plotting the one or all (depending on no. of input channels) filter weights for the second convolutional layer. There are `16` output channels from the first conv-layer, which means there are `16` input channels to the second conv-layer."
   ]
  },
  {
   "cell_type": "code",
   "execution_count": 101,
   "metadata": {
    "colab": {
     "base_uri": "https://localhost:8080/",
     "height": 342
    },
    "colab_type": "code",
    "id": "vKKXnJAIOKpQ",
    "outputId": "782fe081-aafc-42f0-afc3-8bf0312e48c9"
   },
   "outputs": [
    {
     "name": "stdout",
     "output_type": "stream",
     "text": [
      "Filter Shape: 5 x 5\n",
      "Filter Channels: 16\n",
      "Hence each filter shape: 5 x 5 x 16\n",
      "Total no. of filters: 36\n",
      "Plotting filter number: 0\n"
     ]
    },
    {
     "data": {
      "image/png": "[encoded data removed]",
      "text/plain": [
       "<Figure size 432x288 with 16 Axes>"
      ]
     },
     "metadata": {
      "tags": []
     },
     "output_type": "display_data"
    }
   ],
   "source": [
    "plot_conv_weights(weights=weights_conv_2, filter_no=0)"
   ]
  },
  {
   "cell_type": "markdown",
   "metadata": {
    "colab_type": "text",
    "id": "pSjOfqPVOKpR"
   },
   "source": [
    "There are `36` output channels to the second convolutional layer, so we can make another `35` plots of filter weights like this. For example for the second filter."
   ]
  },
  {
   "cell_type": "code",
   "execution_count": 102,
   "metadata": {
    "colab": {
     "base_uri": "https://localhost:8080/",
     "height": 342
    },
    "colab_type": "code",
    "id": "m8gls4oZOKpS",
    "outputId": "1b70ea06-6111-4805-c21c-9691b549aa94"
   },
   "outputs": [
    {
     "name": "stdout",
     "output_type": "stream",
     "text": [
      "Filter Shape: 5 x 5\n",
      "Filter Channels: 16\n",
      "Hence each filter shape: 5 x 5 x 16\n",
      "Total no. of filters: 36\n",
      "Plotting filter number: 1\n"
     ]
    },
    {
     "data": {
      "image/png": "[encoded data removed]",
      "text/plain": [
       "<Figure size 432x288 with 16 Axes>"
      ]
     },
     "metadata": {
      "tags": []
     },
     "output_type": "display_data"
    }
   ],
   "source": [
    "plot_conv_weights(weights=weights_conv_2, filter_no=1)"
   ]
  },
  {
   "cell_type": "markdown",
   "metadata": {
    "colab_type": "text",
    "id": "vGAg-rV1OKpV"
   },
   "source": [
    "### Close TensorFlow Session\n",
    "After done using TensorFlow, close the session to release its resources."
   ]
  },
  {
   "cell_type": "code",
   "execution_count": 0,
   "metadata": {
    "colab": {},
    "colab_type": "code",
    "id": "pJ_J_-oVOKpW"
   },
   "outputs": [],
   "source": [
    "# sess = tf_reset()"
   ]
  },
  {
   "cell_type": "markdown",
   "metadata": {
    "colab_type": "text",
    "id": "gcp9aUOrOKpY"
   },
   "source": [
    "### Conclusion\n",
    "CNN performs way better than simple fully connected feedforward networks. But coding them is complicated and training them takes lot of time. "
   ]
  }
 ],
 "metadata": {
  "colab": {
   "collapsed_sections": [
    "H6NnDUbwwAr8",
    "tYERzCicwAsE",
    "RlCP8YW0wAsU",
    "4xokSX0cwAsZ",
    "eObedMbhwAsj",
    "zE3LmTIkwAsr",
    "lzD1znnywAsx",
    "gg-zAF3pwAs2",
    "r0B2RCZUwAs5",
    "N9nRNNuMwAtO",
    "LeKD1xfYwAtY",
    "Rqdv16mwwAtj",
    "t8i536LBwAt0",
    "qXeBHld5wAuI",
    "Qvcuyx2DwAuT",
    "5M1XeHF9wAuc",
    "copPSVhdwAum",
    "yDuoEWu6wAus",
    "AtLJSY4fwAu1",
    "AL2spQhcwAu8",
    "rLeWuB25wAu_",
    "U71q5mQHwAvI",
    "rGCVWizkwAvL",
    "5HOvFiFkwAvO",
    "zxetkAIbwAvQ",
    "j5SKS_MFwAvT",
    "oUydCcz5OKov",
    "kCHvW8Y3OKo0",
    "uaeB4A2EOKo9",
    "vGAg-rV1OKpV",
    "gcp9aUOrOKpY"
   ],
   "name": "TF_MNIST-CNN.ipynb",
   "provenance": [],
   "version": "0.3.2"
  },
  "kernelspec": {
   "display_name": "Python 3",
   "language": "python",
   "name": "python3"
  },
  "language_info": {
   "codemirror_mode": {
    "name": "ipython",
    "version": 3
   },
   "file_extension": ".py",
   "mimetype": "text/x-python",
   "name": "python",
   "nbconvert_exporter": "python",
   "pygments_lexer": "ipython3",
   "version": "3.6.7"
  }
 },
 "nbformat": 4,
 "nbformat_minor": 1
}

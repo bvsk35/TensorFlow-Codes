{
 "cells": [
  {
   "cell_type": "markdown",
   "metadata": {},
   "source": [
    "# TensorFlow \n",
    "## Deep Neural Network for Classification of Fashion-MNIST Dataset\n",
    "### by [Sameer Kumar](https://sites.google.com/view/bvsk35/home?authuser=0)"
   ]
  },
  {
   "cell_type": "markdown",
   "metadata": {},
   "source": [
    "### Introduction\n",
    "Here I have created a neural network for a classification problem based on my previous implementation in `1-MNIST-Classification-Simple` folder on my GitHub (most of the explanation from previous code has been kept as it is). Problem here in our hand is classification of Fashion-MNIST dataset with a simple feedforward fully connected neural network. Loading the dataset will be simple and same as MNIST Dataset."
   ]
  },
  {
   "cell_type": "markdown",
   "metadata": {},
   "source": [
    "### Why Fashion-MNIST?\n",
    "This explanation has been taken from these [people](https://github.com/zalandoresearch/fashion-mnist) who made this dataset. Thank you for your generous contribution for the scientific society. \n",
    "\n",
    "The original [MNIST dataset](http://yann.lecun.com/exdb/mnist/) contains a lot of handwritten digits. Members of the AI/ML/Data Science community love this dataset and use it as a benchmark to validate their algorithms. In fact, MNIST is often the first dataset researchers try. *\"If it doesn't work on MNIST, it **won't work** at all\"*, they said. *\"Well, if it does work on MNIST, it may still fail on others.\"* \n",
    "\n",
    "### Serious Machine Learning Researchers\n",
    "\n",
    "Serious ML researchers are talking about replacing MNIST. Here are some good reasons:\n",
    "\n",
    "- **MNIST is too easy.** Convolutional nets can achieve 99.7% on MNIST. Classic machine learning algorithms can also achieve 97% easily. Check out [zalandoresearch's side-by-side benchmark for Fashion-MNIST vs. MNIST](http://fashion-mnist.s3-website.eu-central-1.amazonaws.com/), and read \"[Most pairs of MNIST digits can be distinguished pretty well by just one pixel](https://gist.github.com/dgrtwo/aaef94ecc6a60cd50322c0054cc04478).\"\n",
    "- **MNIST is overused.** In [this April 2017 Twitter thread](https://twitter.com/goodfellow_ian/status/852591106655043584), Google Brain research scientist and deep learning expert Ian Goodfellow calls for people to move away from MNIST.\n",
    "- **MNIST can not represent modern CV tasks**, as noted in [this April 2017 Twitter thread](https://twitter.com/fchollet/status/852594987527045120), deep learning expert/Keras author François Chollet."
   ]
  },
  {
   "cell_type": "markdown",
   "metadata": {},
   "source": [
    "**Supress warnings**: When calling *tensorflow* module in Juptyer Notebook it raises warning of *h5py* compliation against wrong version of *hdf5* in Windows OS when using Anaconda. Even though internally all versions are correct this might be due to wrong version written recipe file. \n",
    "\n",
    "**TLDR;** Warnings can be ignored (since everything works properly) and to suppress the warning I am calling this function. But it is not necessary. If you want to see warnings once (which happens by default in Juptyer notebook) uncomment the third line below and comment the second line. "
   ]
  },
  {
   "cell_type": "code",
   "execution_count": 1,
   "metadata": {},
   "outputs": [],
   "source": [
    "import warnings\n",
    "warnings.filterwarnings('ignore')\n",
    "# warnings.filterwarnings(action='once')"
   ]
  },
  {
   "cell_type": "markdown",
   "metadata": {},
   "source": [
    "### Imports\n",
    "Import all the required modules and *Load_MNIST_Data* has a class *MNIST* written by me which has all basic helper functions required. "
   ]
  },
  {
   "cell_type": "code",
   "execution_count": 2,
   "metadata": {},
   "outputs": [],
   "source": [
    "import numpy as np\n",
    "import matplotlib.pyplot as plt\n",
    "from sklearn.metrics import confusion_matrix\n",
    "import tensorflow as tf\n",
    "from Load_MNIST_Data import MNIST"
   ]
  },
  {
   "cell_type": "markdown",
   "metadata": {},
   "source": [
    "### Load Data\n",
    "Load the MNIST data using *prep_data* which outputs training set, validation set and test set scaled based on the scaling defined by the user. Default is 'MMS': MinMaxScaler and other option is 'SS': StandardScaler. Use *one_hot_encoded* to generate the one hot encoded vectors for training purposes. "
   ]
  },
  {
   "cell_type": "code",
   "execution_count": 3,
   "metadata": {},
   "outputs": [],
   "source": [
    "data = MNIST(scaling='MMS')\n",
    "train_img, train_label, val_img, val_label, test_img, test_label = data.prep_data('train-images-idx3-ubyte.gz', \n",
    "                                                                                  'train-labels-idx1-ubyte.gz', \n",
    "                                                                                  't10k-images-idx3-ubyte.gz', \n",
    "                                                                                  't10k-labels-idx1-ubyte.gz')\n",
    "hot_label_train, hot_label_val, hot_label_test = data.one_hot_encoded(train_label, val_label, test_label)"
   ]
  },
  {
   "cell_type": "markdown",
   "metadata": {},
   "source": [
    "The MNIST data-set has now been loaded and consists of 70000 images and labels for the images. The dataset is split into 3 mutually exclusive subsets."
   ]
  },
  {
   "cell_type": "code",
   "execution_count": 4,
   "metadata": {},
   "outputs": [
    {
     "name": "stdout",
     "output_type": "stream",
     "text": [
      "Size of:\n",
      "- Training-set:\t\t55000\n",
      "- Validation-set:\t5000\n",
      "- Test-set:\t\t10000\n"
     ]
    }
   ],
   "source": [
    "print(\"Size of:\")\n",
    "print(\"- Training-set:\\t\\t{}\".format(data.num_train))\n",
    "print(\"- Validation-set:\\t{}\".format(data.num_val))\n",
    "print(\"- Test-set:\\t\\t{}\".format(data.num_test))"
   ]
  },
  {
   "cell_type": "markdown",
   "metadata": {},
   "source": [
    "Copy some of the data-dimensions for convenience."
   ]
  },
  {
   "cell_type": "code",
   "execution_count": 10,
   "metadata": {},
   "outputs": [],
   "source": [
    "# The images are stored in one-dimensional arrays of this length.\n",
    "img_size_flat = data.img_size_flat\n",
    "\n",
    "# Tuple with height and width of images used to reshape arrays.\n",
    "img_shape = data.img_shape\n",
    "\n",
    "# Number of classes, one class for each of 10 digits.\n",
    "num_classes = data.num_classes"
   ]
  },
  {
   "cell_type": "markdown",
   "metadata": {},
   "source": [
    "Create a dictionary which holds the named labels for each numeric value. Remember each label corresponds to some clothing garment. "
   ]
  },
  {
   "cell_type": "code",
   "execution_count": 11,
   "metadata": {},
   "outputs": [],
   "source": [
    "# Dictionary containing information about each class\n",
    "label_dict = {'0': 'T-shirt/top', '1': 'Trouser', '2': 'Pullover', '3': 'Dress', '4': 'Coat', \n",
    "              '5': 'Sandal', '6': 'Shirt', '7': 'Sneaker', '8': 'Bag', '9': 'Ankle boot'}"
   ]
  },
  {
   "cell_type": "markdown",
   "metadata": {},
   "source": [
    "### One-Hot Encoding\n",
    "The output data is loaded as both integer labels and One-Hot encoded arrays. This means the labels have been converted from a single integer to a vector whose length equals the number of possible classes. All elements of the vector are zero except for the $i^{th}$ element which is 1 and means the class is $i$. For example, the One-Hot encoded labels for the first 5 images in the test-set are:"
   ]
  },
  {
   "cell_type": "code",
   "execution_count": 6,
   "metadata": {},
   "outputs": [
    {
     "name": "stdout",
     "output_type": "stream",
     "text": [
      "One-Hot Encoded vectors: \n",
      " [[0. 0. 0. 0. 0. 0. 0. 0. 0. 1.]\n",
      " [0. 0. 1. 0. 0. 0. 0. 0. 0. 0.]\n",
      " [0. 1. 0. 0. 0. 0. 0. 0. 0. 0.]\n",
      " [0. 1. 0. 0. 0. 0. 0. 0. 0. 0.]\n",
      " [0. 0. 0. 0. 0. 0. 1. 0. 0. 0.]]\n"
     ]
    }
   ],
   "source": [
    "print('One-Hot Encoded vectors: \\n', hot_label_test[:5, :])"
   ]
  },
  {
   "cell_type": "markdown",
   "metadata": {},
   "source": [
    "We also need the classes as integers for various comparisons and performance measures. These can be found from the One-Hot encoded arrays by taking the index of the highest element using the `np.argmax()` function. But this has already been done when the dataset was loaded, so we can see the labels for the first five images in the test set. Compare these to the One-Hot encoded arrays above."
   ]
  },
  {
   "cell_type": "code",
   "execution_count": 7,
   "metadata": {},
   "outputs": [
    {
     "name": "stdout",
     "output_type": "stream",
     "text": [
      "Labels: \n",
      " [9 2 1 1 6]\n"
     ]
    }
   ],
   "source": [
    "print('Labels: \\n', test_label[:5])"
   ]
  },
  {
   "cell_type": "markdown",
   "metadata": {},
   "source": [
    "### Helper function for Plotting\n",
    "This function is used to plot images in a NxN grid. Also added functionality to change the color map of the plots by changing the variable `color_map` sent as arguments to this function. "
   ]
  },
  {
   "cell_type": "code",
   "execution_count": 12,
   "metadata": {},
   "outputs": [],
   "source": [
    "def plot_images(images, cls_true, cls_pred=None, color_map='binary'):\n",
    "    check = int(np.sqrt(images.shape[0]))\n",
    "    try:\n",
    "        assert check * check == images.shape[0] \n",
    "    except AssertionError:\n",
    "        raise AssertionError(\"Input array first dimension must be square\")\n",
    "    \n",
    "    if check != 1:\n",
    "        # Create figure with nxn sub-plots.\n",
    "        fig, axes = plt.subplots(check, check)\n",
    "        fig.subplots_adjust(hspace=0.3, wspace=0.3)\n",
    "\n",
    "        for i, ax in enumerate(axes.flat):\n",
    "            # Plot image.\n",
    "            ax.imshow(images[i].reshape(img_shape), cmap=color_map)\n",
    "\n",
    "            # Show true and predicted classes.\n",
    "            if cls_pred is None:\n",
    "                string = str(cls_true[i])\n",
    "                xlabel = \"True: {0}\".format(label_dict[string])\n",
    "            else:\n",
    "                string_1 = str(cls_true[i])\n",
    "                string_2 = str(cls_pred[i])\n",
    "                xlabel = \"True: {0}, Pred: {1}\".format(label_dict[string_1], label_dict[string_2])\n",
    "\n",
    "            ax.set_xlabel(xlabel)\n",
    "\n",
    "            # Remove ticks from the plot.\n",
    "            ax.set_xticks([])\n",
    "            ax.set_yticks([])\n",
    "    else:\n",
    "        fig, axes = plt.subplots()\n",
    "        axes.imshow(images.reshape(img_shape), cmap=color_map)\n",
    "        # Show true and predicted classes.\n",
    "        if cls_pred is None:\n",
    "            xlabel = \"True: {0}\".format(cls_true)\n",
    "        else:\n",
    "            xlabel = \"True: {0}, Pred: {1}\".format(cls_true, cls_pred)\n",
    "\n",
    "        axes.set_xlabel(xlabel)\n",
    "\n",
    "        # Remove ticks from the plot.\n",
    "        axes.set_xticks([])\n",
    "        axes.set_yticks([])       \n",
    "        \n",
    "    # Ensure the plot is shown correctly with multiple plots\n",
    "    # in a single Notebook cell.\n",
    "    plt.show()"
   ]
  },
  {
   "cell_type": "markdown",
   "metadata": {},
   "source": [
    "### Plot a few images to see how does dataset looks\n",
    "This images depends on which kind of scaling you are using. If you use 'SS' scaling then images look as if it has been smudged and if you use 'MMS' scaling then images look as if more crisp **People mostly use 'MMS' scaling** ."
   ]
  },
  {
   "cell_type": "code",
   "execution_count": 17,
   "metadata": {},
   "outputs": [
    {
     "data": {
      "image/png": "[encoded data removed]",
      "text/plain": [
       "<Figure size 432x288 with 4 Axes>"
      ]
     },
     "metadata": {},
     "output_type": "display_data"
    }
   ],
   "source": [
    "# Get the first images from the test-set.\n",
    "images = test_img[0:4]\n",
    "\n",
    "# Get the true classes for those images.\n",
    "cls_true = test_label[0:4]\n",
    "\n",
    "# Plot the images and labels using our helper-function above.\n",
    "plot_images(images=images, cls_true=cls_true, color_map='viridis')"
   ]
  },
  {
   "cell_type": "markdown",
   "metadata": {},
   "source": [
    "## TensorFlow Graph\n",
    "The entire purpose of TensorFlow is to have a computational graph that can be executed much more efficiently than if the same calculations were to be performed directly in Python. TensorFlow can be more efficient than NumPy because TensorFlow knows the entire computation graph that must be executed, while NumPy only knows the computation of a single mathematical operation at a time.\n",
    "\n",
    "TensorFlow can also efficiently load tons of real world data present in storage drives (in the format of byte) and perform computations faster than NumPy. \n",
    "\n",
    "TensorFlow can also automatically calculate the gradients that are needed to optimize the variables of the graph so as to make the model perform better. This is because the graph is a combination of simple arithmetic expressions so the gradient of the entire graph can be calculated using the chain-rule for derivatives.\n",
    "\n",
    "TensorFlow can also take advantage of multi-core CPUs as well as GPUs - and Google has even built special chips just for TensorFlow which are called TPUs (Tensor Processing Units) that are even faster than GPUs.\n",
    "\n",
    "A TensorFlow graph consists of the following parts (and many more):\n",
    "* Placeholder: variables used to feed input into the graph.\n",
    "* Model variables: that are going to be optimized so as to make the model perform better.\n",
    "* Model: which is essentially just a mathematical function that calculates some output given the input in the placeholder variables and the model variables.\n",
    "* Cost: measure that can be used to guide the optimization of the variables.\n",
    "* Optimization method: which updates the variables of the model.\n",
    "\n",
    "In addition, the TensorFlow graph may also contain various debugging statements e.g. for logging data to be displayed using TensorBoard."
   ]
  },
  {
   "cell_type": "markdown",
   "metadata": {},
   "source": [
    "### Placeholder variables\n",
    "Placeholder variables serve as the input to the graph that we may change each time we execute the graph. This is known as feeding the placeholder variables.\n",
    "\n",
    "First we define the placeholder variable for the *input* *images*. This allows us to change the images that are input to the TensorFlow graph. This is a tensor, which just means that it is a multi-dimensional vector or matrix. The data-type is set to `float64` and the shape is set to `[None, img_size_flat]`, where None means that the tensor may hold an arbitrary number of images with each image being a vector of length `img_size_flat`."
   ]
  },
  {
   "cell_type": "code",
   "execution_count": 18,
   "metadata": {},
   "outputs": [],
   "source": [
    "X = tf.placeholder(name='Input', dtype=tf.float64, shape=[None, img_size_flat])"
   ]
  },
  {
   "cell_type": "markdown",
   "metadata": {},
   "source": [
    "Next we have the placeholder variable for the **desired** *labels* of each image in the placeholder variable `X`. These are integers and the dimensionality of this placeholder variable is set to `[None]` which means the placeholder variable is a one-dimensional vector of arbitrary length."
   ]
  },
  {
   "cell_type": "code",
   "execution_count": 19,
   "metadata": {},
   "outputs": [],
   "source": [
    "y_true = tf.placeholder(name='Desired_Labels', dtype=tf.int64, shape=[None])"
   ]
  },
  {
   "cell_type": "markdown",
   "metadata": {},
   "source": [
    "Finally, we have the placeholder variable for the **predicted** one-hot encoded labels associated with the images that were input in the placeholder variable `X`. The shape of this placeholder variable is `[None, num_classes]` which means it may hold an arbitrary number of them and each one-hot encoded labels is a vector of length num_classes which is 10 in this case."
   ]
  },
  {
   "cell_type": "code",
   "execution_count": 20,
   "metadata": {},
   "outputs": [],
   "source": [
    "y_true_hot = tf.placeholder(name='Desired_Output', dtype=tf.float64, shape=[None, num_classes])"
   ]
  },
  {
   "cell_type": "markdown",
   "metadata": {},
   "source": [
    "### Variables to be optimized\n",
    "Apart from the placeholder variables that were defined above and which serve as feeding input data into the model, there are also some model variables that must be changed by TensorFlow so as to make the model perform better on the training data.\n",
    "\n",
    "The first variable that must be optimized is called weights and is defined here as a TensorFlow variable that must be initialized with zeros and whose shape is `[img_size_flat, num_classes]`, so it is a 2-dimensional tensor (or matrix) with `img_size_flat` rows and `num_classes columns`. The second variable that must be optimized is called biases and is defined as a 1-dimensional tensor (or vector) of length `num_classes`.\n",
    "\n",
    "Each layer has it's own weights and bias."
   ]
  },
  {
   "cell_type": "markdown",
   "metadata": {},
   "source": [
    "### Model\n",
    "This mathematical model feeds the images using the placeholder variable `X` to neural network. Where at each layer inputs are mulitplied with the `weights` and then `biases` are added. Finally activation function is applied component wise. \n",
    "\n",
    "For example at first hidden layer: The result is a matrix of shape `[num_images, num_classes]` because `X` has shape `[num_images, img_size_flat]` and `weights` has shape `[img_size_flat, num_classes]`, so the multiplication of those two matrices is a matrix with shape `[num_images, num_classes]` and then the `biases` vector is added to each row of that matrix. At last activation function is applied.\n",
    "\n",
    "Neural network shown below has two hidden layers with 40 neurons per layer. Input layer will have `img_size_flat` no. of nodes (784) and output layer will have `num_classes` no. of nodes (10). ReLU is activation function hidden layers and softmax is acitvation function in last layer. Softmax activation gives out the probability of the input being in one of the ten classes. And max of all the probability will be taken as the predicted output by the neural network.  "
   ]
  },
  {
   "cell_type": "code",
   "execution_count": 21,
   "metadata": {},
   "outputs": [],
   "source": [
    "# NN model\n",
    "def create_model(X):\n",
    "    \n",
    "    # Create Weights\n",
    "    W0 = tf.get_variable(name='W0', shape=[img_size_flat, 40], dtype=tf.float64, \n",
    "                             initializer=tf.contrib.layers.xavier_initializer())\n",
    "    W1 = tf.get_variable(name='W1', shape=[40, 40], dtype=tf.float64, \n",
    "                             initializer=tf.contrib.layers.xavier_initializer())\n",
    "    W2 = tf.get_variable(name='W2', shape=[40, num_classes], dtype=tf.float64, \n",
    "                             initializer=tf.contrib.layers.xavier_initializer())\n",
    "    \n",
    "    # Bias\n",
    "    b0 = tf.get_variable(name='b0', shape=[1, 40], dtype=tf.float64, initializer=tf.constant_initializer(0.0))\n",
    "    b1 = tf.get_variable(name='b1', shape=[1, 40], dtype=tf.float64, initializer=tf.constant_initializer(0.0))\n",
    "    b2 = tf.get_variable(name='b2', shape=[1, num_classes], dtype=tf.float64, initializer=tf.constant_initializer(0.0))\n",
    "    \n",
    "    # List of all the variables\n",
    "    weights = [W0, W1, W2]\n",
    "    bias = [b0, b1, b2]\n",
    "    activations = [tf.nn.relu, tf.nn.relu, tf.nn.softmax]\n",
    "    \n",
    "    # Forward Pass or create computation graph\n",
    "    layer_output = X\n",
    "    for W, b, phi in zip(weights, bias, activations):\n",
    "        local_induced_fields = tf.matmul(layer_output, W)\n",
    "        layer_output = phi(local_induced_fields + b)\n",
    "    \n",
    "    logits = local_induced_fields\n",
    "    y_pred_hot = layer_output\n",
    "    y_pred = tf.argmax(y_pred_hot, axis=1)\n",
    "    \n",
    "    return logits, y_pred_hot, y_pred\n",
    "\n",
    "logits, y_pred_hot, y_pred = create_model(X)"
   ]
  },
  {
   "cell_type": "markdown",
   "metadata": {},
   "source": [
    "### Cost-function to be optimized\n",
    "To make the model better at classifying the input images, we must somehow change the variables for `weights` and `biases`. To do this we first need to know how well the model currently performs by comparing the predicted output of the model `y_pred` to the desired output `y_true`.\n",
    "\n",
    "The **cross-entropy** is a performance measure used in classification. The cross-entropy is a continuous function that is always positive and if the predicted output of the model exactly matches the desired output then the cross-entropy equals zero. The goal of optimization is therefore to minimize the cross-entropy so it gets as close to zero as possible by changing the weights and biases of the model.\n",
    "\n",
    "TensorFlow has a built-in function for calculating the cross-entropy. Note that it uses the values of the **logits** i.e., locally induced fields because it also calculates the softmax internally. TensorFlow class *locally induced fields* as *logits*. For more refer [TensorFlow-cross-entropy](https://www.tensorflow.org/api_docs/python/tf/nn/softmax_cross_entropy_with_logits_v2)."
   ]
  },
  {
   "cell_type": "code",
   "execution_count": 22,
   "metadata": {},
   "outputs": [],
   "source": [
    "cross_entropy = tf.nn.softmax_cross_entropy_with_logits_v2(logits=logits, labels=y_true_hot)"
   ]
  },
  {
   "cell_type": "markdown",
   "metadata": {},
   "source": [
    "We have now calculated the cross-entropy for each of the image classifications so we have a measure of how well the model performs on each image individually. But in order to use the cross-entropy to guide the optimization of the model's variables we need a single scalar value, so we simply take the average of the cross-entropy for all the image classifications."
   ]
  },
  {
   "cell_type": "code",
   "execution_count": 23,
   "metadata": {},
   "outputs": [],
   "source": [
    "cost = tf.reduce_mean(cross_entropy)"
   ]
  },
  {
   "cell_type": "markdown",
   "metadata": {},
   "source": [
    "### Optimization method\n",
    "Now that we have a cost measure that must be minimized, we can then create an optimizer. In this case it is the basic form of Gradient Descent where the step-size is set to 0.5."
   ]
  },
  {
   "cell_type": "code",
   "execution_count": 24,
   "metadata": {},
   "outputs": [],
   "source": [
    "optimizer = tf.train.GradientDescentOptimizer(learning_rate=0.5).minimize(cost)"
   ]
  },
  {
   "cell_type": "markdown",
   "metadata": {},
   "source": [
    "### Performance measures\n",
    "We need a few more performance measures to display the progress. Below: this is a vector of booleans whether the predicted class equals the true class of each image."
   ]
  },
  {
   "cell_type": "code",
   "execution_count": 25,
   "metadata": {},
   "outputs": [],
   "source": [
    "correct_prediction = tf.equal(y_pred, y_true)"
   ]
  },
  {
   "cell_type": "markdown",
   "metadata": {},
   "source": [
    "This calculates the classification accuracy by first type-casting the vector of booleans to floats, so that False becomes 0 and True becomes 1, and then calculating the average of these numbers."
   ]
  },
  {
   "cell_type": "code",
   "execution_count": 26,
   "metadata": {},
   "outputs": [],
   "source": [
    "accuracy = tf.reduce_mean(tf.cast(correct_prediction, tf.float32))"
   ]
  },
  {
   "cell_type": "markdown",
   "metadata": {},
   "source": [
    "## TensorFlow Run"
   ]
  },
  {
   "cell_type": "markdown",
   "metadata": {},
   "source": [
    "### Create TensorFlow session\n",
    "Once the TensorFlow graph has been created, we have to create a TensorFlow session which is used to execute the graph."
   ]
  },
  {
   "cell_type": "code",
   "execution_count": 27,
   "metadata": {},
   "outputs": [],
   "source": [
    "def tf_reset():\n",
    "    try:\n",
    "        sess.close()\n",
    "    except:\n",
    "        pass\n",
    "    return tf.Session()"
   ]
  },
  {
   "cell_type": "code",
   "execution_count": 28,
   "metadata": {},
   "outputs": [],
   "source": [
    "sess = tf_reset()"
   ]
  },
  {
   "cell_type": "markdown",
   "metadata": {},
   "source": [
    "### Initialize variables\n",
    "The variables for `weights` and `biases` must be initialized before we start optimizing them."
   ]
  },
  {
   "cell_type": "code",
   "execution_count": 29,
   "metadata": {},
   "outputs": [],
   "source": [
    "# Initialize the variables\n",
    "sess.run(tf.global_variables_initializer())"
   ]
  },
  {
   "cell_type": "markdown",
   "metadata": {},
   "source": [
    "### Helper-function to perform optimization iterations\n",
    "There are 55000 images in the training-set. It takes a long time to calculate the gradient of the model using all these images. We therefore use *Batch Stochastic Gradient Descent* which only uses a small batch of images in each iteration of the optimizer."
   ]
  },
  {
   "cell_type": "code",
   "execution_count": 30,
   "metadata": {},
   "outputs": [],
   "source": [
    "batch_size = 128"
   ]
  },
  {
   "cell_type": "markdown",
   "metadata": {},
   "source": [
    "Function for performing a number of optimization iterations so as to gradually improve the `weights` and `biases` of the model. In each iteration, a new batch of data is selected from the training-set and then TensorFlow executes the optimizer using those training samples."
   ]
  },
  {
   "cell_type": "code",
   "execution_count": 31,
   "metadata": {},
   "outputs": [],
   "source": [
    "# Run training\n",
    "def optimize(iterations):\n",
    "    for training_step in range(iterations):\n",
    "        # get a random subset/batch of the training data\n",
    "        # x_batch now holds a batch of images and\n",
    "        # y_true_batch are the true labels for those images.\n",
    "        X_batch, y_true_batch, y_true_hot_batch = data.random_batch(train_img, train_label, hot_label_train, \n",
    "                                                                        batch_size=batch_size)\n",
    "\n",
    "        # run the optimizer and get the mse\n",
    "        _, cost_run = sess.run([optimizer, cost], feed_dict={X: X_batch, y_true_hot: y_true_hot_batch})\n",
    "\n",
    "        # print the mse every so often\n",
    "        if training_step % 100 == 0:\n",
    "            print('{0:04d} mse: {1:.3f}'.format(training_step, cost_run))"
   ]
  },
  {
   "cell_type": "markdown",
   "metadata": {},
   "source": [
    "### Helper-functions to show performance\n",
    "Function for printing the classification accuracy on the test-set."
   ]
  },
  {
   "cell_type": "code",
   "execution_count": 32,
   "metadata": {},
   "outputs": [],
   "source": [
    "def print_accuracy():\n",
    "    # Use TensorFlow to compute the accuracy.\n",
    "    acc = sess.run(accuracy, feed_dict={X: test_img, y_true: test_label, y_true_hot: hot_label_test})\n",
    "    \n",
    "    # Print the accuracy.\n",
    "    print(\"Accuracy on test-set: {0:.1%}\".format(acc))"
   ]
  },
  {
   "cell_type": "markdown",
   "metadata": {},
   "source": [
    "Function for printing and plotting the confusion matrix using scikit-learn."
   ]
  },
  {
   "cell_type": "code",
   "execution_count": 33,
   "metadata": {},
   "outputs": [],
   "source": [
    "def print_confusion_matrix():\n",
    "    # Get the true classifications for the test-set.\n",
    "    cls_true = test_label\n",
    "    \n",
    "    # Get the predicted classifications for the test-set.\n",
    "    cls_pred = sess.run(y_pred, feed_dict={X: test_img, y_true: test_label, y_true_hot: hot_label_test})\n",
    "\n",
    "    # Get the confusion matrix using sklearn.\n",
    "    cm = confusion_matrix(y_true=cls_true, y_pred=cls_pred)\n",
    "\n",
    "    # Print the confusion matrix as text.\n",
    "    print(cm)\n",
    "\n",
    "    # Plot the confusion matrix as an image.\n",
    "    plt.imshow(cm, interpolation='nearest', cmap=plt.cm.Blues)\n",
    "\n",
    "    # Make various adjustments to the plot.\n",
    "    plt.tight_layout()\n",
    "    plt.colorbar()\n",
    "    tick_marks = np.arange(num_classes)\n",
    "    plt.xticks(tick_marks, range(num_classes))\n",
    "    plt.yticks(tick_marks, range(num_classes))\n",
    "    plt.xlabel('Predicted')\n",
    "    plt.ylabel('True')\n",
    "    \n",
    "    # Ensure the plot is shown correctly with multiple plots\n",
    "    # in a single Notebook cell.\n",
    "    plt.show()"
   ]
  },
  {
   "cell_type": "markdown",
   "metadata": {},
   "source": [
    "Function for plotting examples of images from the test-set that have been mis-classified."
   ]
  },
  {
   "cell_type": "code",
   "execution_count": 35,
   "metadata": {},
   "outputs": [],
   "source": [
    "def plot_example_errors():\n",
    "    # Use TensorFlow to get a list of boolean values\n",
    "    # whether each test-image has been correctly classified,\n",
    "    # and a list for the predicted class of each image.\n",
    "    correct, cls_pred = sess.run([correct_prediction, y_pred],\n",
    "                                    feed_dict={X: test_img, y_true: test_label, y_true_hot: hot_label_test})\n",
    "\n",
    "    # Negate the boolean array.\n",
    "    incorrect = (correct == False)\n",
    "    \n",
    "    # Get the images from the test-set that have been\n",
    "    # incorrectly classified.\n",
    "    images = test_img[incorrect]\n",
    "    \n",
    "    # Get the predicted classes for those images.\n",
    "    cls_pred = cls_pred[incorrect]\n",
    "\n",
    "    # Get the true classes for those images.\n",
    "    cls_true = test_label[incorrect]\n",
    "    \n",
    "    # Plot the first 9 images.\n",
    "    plot_images(images=images[0:4], cls_true=cls_true[0:4], cls_pred=cls_pred[0:4], color_map='viridis')"
   ]
  },
  {
   "cell_type": "markdown",
   "metadata": {},
   "source": [
    "### Performance before any optimization\n",
    "The accuracy on the test-set will be vary low around 10%. This is because the model has only been initialized and not optimized at all, so it always predicts that the image shows a zero digit."
   ]
  },
  {
   "cell_type": "code",
   "execution_count": 36,
   "metadata": {},
   "outputs": [
    {
     "name": "stdout",
     "output_type": "stream",
     "text": [
      "Accuracy on test-set: 7.7%\n"
     ]
    }
   ],
   "source": [
    "print_accuracy()"
   ]
  },
  {
   "cell_type": "code",
   "execution_count": 37,
   "metadata": {},
   "outputs": [
    {
     "data": {
      "image/png": "[encoded data removed]",
      "text/plain": [
       "<Figure size 432x288 with 4 Axes>"
      ]
     },
     "metadata": {},
     "output_type": "display_data"
    }
   ],
   "source": [
    "plot_example_errors()"
   ]
  },
  {
   "cell_type": "markdown",
   "metadata": {},
   "source": [
    "### Performance after 1 optimization iteration\n",
    "Already after a single optimization iteration, the model has increased its accuracy on the test-set significantly."
   ]
  },
  {
   "cell_type": "code",
   "execution_count": 38,
   "metadata": {},
   "outputs": [
    {
     "name": "stdout",
     "output_type": "stream",
     "text": [
      "0000 mse: 2.423\n"
     ]
    }
   ],
   "source": [
    "optimize(iterations=1)"
   ]
  },
  {
   "cell_type": "code",
   "execution_count": 39,
   "metadata": {},
   "outputs": [
    {
     "name": "stdout",
     "output_type": "stream",
     "text": [
      "Accuracy on test-set: 12.8%\n"
     ]
    }
   ],
   "source": [
    "print_accuracy()"
   ]
  },
  {
   "cell_type": "code",
   "execution_count": 40,
   "metadata": {},
   "outputs": [
    {
     "data": {
      "image/png": "[encoded data removed]",
      "text/plain": [
       "<Figure size 432x288 with 4 Axes>"
      ]
     },
     "metadata": {},
     "output_type": "display_data"
    }
   ],
   "source": [
    "plot_example_errors()"
   ]
  },
  {
   "cell_type": "markdown",
   "metadata": {},
   "source": [
    "### Performance after 10 optimization iterations"
   ]
  },
  {
   "cell_type": "code",
   "execution_count": 41,
   "metadata": {},
   "outputs": [
    {
     "name": "stdout",
     "output_type": "stream",
     "text": [
      "0000 mse: 2.316\n"
     ]
    }
   ],
   "source": [
    "optimize(iterations=10)"
   ]
  },
  {
   "cell_type": "code",
   "execution_count": 42,
   "metadata": {},
   "outputs": [
    {
     "name": "stdout",
     "output_type": "stream",
     "text": [
      "Accuracy on test-set: 21.9%\n"
     ]
    }
   ],
   "source": [
    "print_accuracy()"
   ]
  },
  {
   "cell_type": "code",
   "execution_count": 43,
   "metadata": {},
   "outputs": [
    {
     "data": {
      "image/png": "[encoded data removed]",
      "text/plain": [
       "<Figure size 432x288 with 4 Axes>"
      ]
     },
     "metadata": {},
     "output_type": "display_data"
    }
   ],
   "source": [
    "plot_example_errors()"
   ]
  },
  {
   "cell_type": "markdown",
   "metadata": {},
   "source": [
    "### Performance after 1000 optimization iterations"
   ]
  },
  {
   "cell_type": "code",
   "execution_count": 44,
   "metadata": {},
   "outputs": [
    {
     "name": "stdout",
     "output_type": "stream",
     "text": [
      "0000 mse: 2.480\n",
      "0100 mse: 0.916\n",
      "0200 mse: 0.893\n",
      "0300 mse: 0.520\n",
      "0400 mse: 0.555\n",
      "0500 mse: 0.617\n",
      "0600 mse: 0.729\n",
      "0700 mse: 0.502\n",
      "0800 mse: 0.451\n",
      "0900 mse: 0.657\n"
     ]
    }
   ],
   "source": [
    "optimize(iterations=1000)"
   ]
  },
  {
   "cell_type": "code",
   "execution_count": 45,
   "metadata": {},
   "outputs": [
    {
     "name": "stdout",
     "output_type": "stream",
     "text": [
      "Accuracy on test-set: 80.3%\n"
     ]
    }
   ],
   "source": [
    "print_accuracy()"
   ]
  },
  {
   "cell_type": "code",
   "execution_count": 46,
   "metadata": {},
   "outputs": [
    {
     "data": {
      "image/png": "[encoded data removed]",
      "text/plain": [
       "<Figure size 432x288 with 4 Axes>"
      ]
     },
     "metadata": {},
     "output_type": "display_data"
    }
   ],
   "source": [
    "plot_example_errors()"
   ]
  },
  {
   "cell_type": "code",
   "execution_count": 47,
   "metadata": {},
   "outputs": [
    {
     "name": "stdout",
     "output_type": "stream",
     "text": [
      "[[881   3   5  24   4   0  66   0  16   1]\n",
      " [ 12 944   2  31   5   0   4   0   2   0]\n",
      " [ 43   0 489  12 248   1 198   0   9   0]\n",
      " [104  10   3 799  28   1  51   0   4   0]\n",
      " [  5   1  34  60 705   0 187   0   8   0]\n",
      " [  1   0   0   2   0 899   0  53   3  42]\n",
      " [252   1  81  19 103   0 518   0  26   0]\n",
      " [  0   0   0   0   0  24   0 863   1 112]\n",
      " [ 12   1   3   5   3   4  13   4 954   1]\n",
      " [  0   0   0   1   0   6   0  16   1 976]]\n"
     ]
    },
    {
     "data": {
      "image/png": "[encoded data removed]",
      "text/plain": [
       "<Figure size 432x288 with 2 Axes>"
      ]
     },
     "metadata": {
      "needs_background": "light"
     },
     "output_type": "display_data"
    }
   ],
   "source": [
    "print_confusion_matrix()"
   ]
  },
  {
   "cell_type": "markdown",
   "metadata": {},
   "source": [
    "### Performance after 10000 optimization iterations"
   ]
  },
  {
   "cell_type": "code",
   "execution_count": 48,
   "metadata": {
    "scrolled": true
   },
   "outputs": [
    {
     "name": "stdout",
     "output_type": "stream",
     "text": [
      "0000 mse: 0.505\n",
      "0100 mse: 0.333\n",
      "0200 mse: 0.565\n",
      "0300 mse: 0.430\n",
      "0400 mse: 0.394\n",
      "0500 mse: 0.514\n",
      "0600 mse: 0.344\n",
      "0700 mse: 0.438\n",
      "0800 mse: 0.791\n",
      "0900 mse: 0.561\n",
      "1000 mse: 0.240\n",
      "1100 mse: 0.377\n",
      "1200 mse: 0.447\n",
      "1300 mse: 0.405\n",
      "1400 mse: 0.496\n",
      "1500 mse: 0.328\n",
      "1600 mse: 0.523\n",
      "1700 mse: 0.379\n",
      "1800 mse: 0.448\n",
      "1900 mse: 0.481\n",
      "2000 mse: 0.412\n",
      "2100 mse: 0.477\n",
      "2200 mse: 0.433\n",
      "2300 mse: 0.368\n",
      "2400 mse: 0.424\n",
      "2500 mse: 0.256\n",
      "2600 mse: 0.312\n",
      "2700 mse: 0.450\n",
      "2800 mse: 0.278\n",
      "2900 mse: 0.419\n",
      "3000 mse: 0.403\n",
      "3100 mse: 0.299\n",
      "3200 mse: 0.373\n",
      "3300 mse: 0.481\n",
      "3400 mse: 0.331\n",
      "3500 mse: 0.443\n",
      "3600 mse: 0.401\n",
      "3700 mse: 0.366\n",
      "3800 mse: 0.274\n",
      "3900 mse: 0.414\n",
      "4000 mse: 0.305\n",
      "4100 mse: 0.412\n",
      "4200 mse: 0.379\n",
      "4300 mse: 0.264\n",
      "4400 mse: 0.352\n",
      "4500 mse: 0.347\n",
      "4600 mse: 0.441\n",
      "4700 mse: 0.414\n",
      "4800 mse: 0.352\n",
      "4900 mse: 0.410\n",
      "5000 mse: 0.395\n",
      "5100 mse: 0.396\n",
      "5200 mse: 0.361\n",
      "5300 mse: 0.376\n",
      "5400 mse: 0.216\n",
      "5500 mse: 0.333\n",
      "5600 mse: 0.293\n",
      "5700 mse: 0.278\n",
      "5800 mse: 0.274\n",
      "5900 mse: 0.193\n",
      "6000 mse: 0.265\n",
      "6100 mse: 0.313\n",
      "6200 mse: 0.314\n",
      "6300 mse: 0.393\n",
      "6400 mse: 0.396\n",
      "6500 mse: 0.362\n",
      "6600 mse: 0.267\n",
      "6700 mse: 0.261\n",
      "6800 mse: 0.293\n",
      "6900 mse: 0.397\n",
      "7000 mse: 0.198\n",
      "7100 mse: 0.321\n",
      "7200 mse: 0.324\n",
      "7300 mse: 0.558\n",
      "7400 mse: 0.268\n",
      "7500 mse: 0.268\n",
      "7600 mse: 0.481\n",
      "7700 mse: 0.328\n",
      "7800 mse: 0.346\n",
      "7900 mse: 0.441\n",
      "8000 mse: 0.321\n",
      "8100 mse: 0.409\n",
      "8200 mse: 0.358\n",
      "8300 mse: 0.295\n",
      "8400 mse: 0.337\n",
      "8500 mse: 0.441\n",
      "8600 mse: 0.330\n",
      "8700 mse: 0.243\n",
      "8800 mse: 0.246\n",
      "8900 mse: 0.380\n",
      "9000 mse: 0.252\n",
      "9100 mse: 0.251\n",
      "9200 mse: 0.391\n",
      "9300 mse: 0.243\n",
      "9400 mse: 0.338\n",
      "9500 mse: 0.386\n",
      "9600 mse: 0.386\n",
      "9700 mse: 0.329\n",
      "9800 mse: 0.334\n",
      "9900 mse: 0.229\n"
     ]
    }
   ],
   "source": [
    "optimize(iterations=10000)"
   ]
  },
  {
   "cell_type": "code",
   "execution_count": 49,
   "metadata": {},
   "outputs": [
    {
     "name": "stdout",
     "output_type": "stream",
     "text": [
      "Accuracy on test-set: 86.1%\n"
     ]
    }
   ],
   "source": [
    "print_accuracy()"
   ]
  },
  {
   "cell_type": "code",
   "execution_count": 50,
   "metadata": {},
   "outputs": [
    {
     "data": {
      "image/png": "[encoded data removed]",
      "text/plain": [
       "<Figure size 432x288 with 4 Axes>"
      ]
     },
     "metadata": {},
     "output_type": "display_data"
    }
   ],
   "source": [
    "plot_example_errors()"
   ]
  },
  {
   "cell_type": "code",
   "execution_count": 51,
   "metadata": {},
   "outputs": [
    {
     "name": "stdout",
     "output_type": "stream",
     "text": [
      "[[783   2  15  43   9   1 132   0  14   1]\n",
      " [  0 964   0  21   7   1   4   0   2   1]\n",
      " [  8   0 732  13 137   0 100   1   9   0]\n",
      " [ 14   8   6 860  64   1  39   2   6   0]\n",
      " [  0   2  98  14 825   0  54   0   7   0]\n",
      " [  0   0   0   2   0 960   0  29   4   5]\n",
      " [120   1  71  30 104   1 658   0  15   0]\n",
      " [  0   0   0   0   0  31   0 957   1  11]\n",
      " [  2   1   2   4   6   5   8   5 967   0]\n",
      " [  0   0   0   1   0  29   0  66   1 903]]\n"
     ]
    },
    {
     "data": {
      "image/png": "[encoded data removed]",
      "text/plain": [
       "<Figure size 432x288 with 2 Axes>"
      ]
     },
     "metadata": {
      "needs_background": "light"
     },
     "output_type": "display_data"
    }
   ],
   "source": [
    "print_confusion_matrix()"
   ]
  },
  {
   "cell_type": "markdown",
   "metadata": {},
   "source": [
    "### Conclusion\n",
    "We can see from the resutls that achieving high accuracy on MNIST dataset was way easy. With simple two layer fully connected 40 layer neural network we were able to achieve accuracy around 97% after 10,000 epochs. Imagine if this was a complicated CNN then we can get more high accuracy. But in Fashion-MNIST case dataset contains many hard examples and many examples which are close to each other. By looking at the misclassified or the confusion matrix we can tell images for T-shirt/Top, Shirt, Coat, and Pullover are very close to each other and classifying them is tough. Even after 10,000 epochs we still only have 86% accuracy. "
   ]
  }
 ],
 "metadata": {
  "kernelspec": {
   "display_name": "Python 3",
   "language": "python",
   "name": "python3"
  },
  "language_info": {
   "codemirror_mode": {
    "name": "ipython",
    "version": 3
   },
   "file_extension": ".py",
   "mimetype": "text/x-python",
   "name": "python",
   "nbconvert_exporter": "python",
   "pygments_lexer": "ipython3",
   "version": "3.6.7"
  }
 },
 "nbformat": 4,
 "nbformat_minor": 2
}

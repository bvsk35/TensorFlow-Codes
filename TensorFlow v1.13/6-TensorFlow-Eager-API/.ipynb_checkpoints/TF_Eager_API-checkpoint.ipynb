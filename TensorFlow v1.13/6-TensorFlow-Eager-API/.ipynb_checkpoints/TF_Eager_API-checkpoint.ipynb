{
 "cells": [
  {
   "cell_type": "markdown",
   "metadata": {},
   "source": [
    "# TensorFlow \n",
    "## TensorFlow Eager API Basics\n",
    "### by [Sameer Kumar](https://sites.google.com/view/bvsk35/home?authuser=0)"
   ]
  },
  {
   "cell_type": "markdown",
   "metadata": {},
   "source": [
    "### What is Eager API?\n",
    "TensorFlow's eager execution is an imperative programming environment that evaluates operations immediately, without building graphs: operations return concrete values instead of constructing a computational graph to run later. This makes it easy to get started with TensorFlow and debug models, and it reduces boilerplate as well. Eager execution is a flexible machine learning platform for research and experimentation, providing:\n",
    "- An intuitive interface: Structure your code naturally and use Python data structures. Quickly iterate on small models and small data.\n",
    "- Easier debugging: Call ops directly to inspect running models and test changes. Use standard Python debugging tools for immediate error reporting.\n",
    "- Natural control flow: Use Python control flow instead of graph control flow, simplifying the specification of dynamic models.\n",
    "\n",
    "More detailed explanation for this can be found [here](https://ai.googleblog.com/2017/10/eager-execution-imperative-define-by.html) and [here](https://www.tensorflow.org/guide/eager). Its effectivness has been enhanced in the newer tensorflow version tf-2.0 and about this you can read it [here](https://www.tensorflow.org/beta/guide/effective_tf2)."
   ]
  },
  {
   "cell_type": "code",
   "execution_count": 1,
   "metadata": {},
   "outputs": [],
   "source": [
    "# Import required Libraries\n",
    "import tensorflow as tf\n",
    "import numpy as np"
   ]
  },
  {
   "cell_type": "code",
   "execution_count": 2,
   "metadata": {},
   "outputs": [
    {
     "name": "stdout",
     "output_type": "stream",
     "text": [
      "Setting Eager API mode....\n",
      "Eager Execution has been enabled\n"
     ]
    }
   ],
   "source": [
    "# Set Eager API mode\n",
    "print('Setting Eager API mode....')\n",
    "tf.enable_eager_execution()\n",
    "if tf.executing_eagerly():\n",
    "    print('Eager Execution has been enabled')\n",
    "else:\n",
    "    print('FAILED!!!')"
   ]
  },
  {
   "cell_type": "code",
   "execution_count": 3,
   "metadata": {},
   "outputs": [
    {
     "name": "stdout",
     "output_type": "stream",
     "text": [
      "Define constant tensors\n",
      "a = 2.0\n",
      "b = 3.0\n"
     ]
    }
   ],
   "source": [
    "# Define Constant tensors\n",
    "print('Define constant tensors')\n",
    "a = tf.constant(2.0)\n",
    "print('a = {0:.1f}'.format(a))\n",
    "b = tf.constant(3.0)\n",
    "print('b = {0:.1f}'.format(b))"
   ]
  },
  {
   "cell_type": "code",
   "execution_count": 4,
   "metadata": {},
   "outputs": [
    {
     "name": "stdout",
     "output_type": "stream",
     "text": [
      "Doing computations without calling tf.sessions\n",
      "a + b = c = 5.0\n",
      "a * b = d = 6.0\n"
     ]
    }
   ],
   "source": [
    "# Note we can run opertaion without calling tf.sessions\n",
    "# Operator overloading is supported: +, -, * etc\n",
    "print('Doing computations without calling tf.sessions')\n",
    "c = a + b\n",
    "print('a + b = c = {0:.1f}'.format(c))\n",
    "d = a * b\n",
    "print('a * b = d = {0:.1f}'.format(d))"
   ]
  },
  {
   "cell_type": "markdown",
   "metadata": {},
   "source": [
    "### Note:\n",
    "Enabling eager execution changes how TensorFlow operations behave. Now they immediately evaluate and return their values to Python. `tf.Tensor` objects reference concrete values instead of symbolic handles to nodes in a computational graph. Since there isn't a computational graph to build and run later in a session, it's easy to inspect results using `print()` or a debugger. Evaluating, printing, and checking tensor values does not break the flow for computing gradients.\n",
    "\n",
    "Eager execution works nicely with NumPy. NumPy operations accept `tf.Tensor` arguments. TensorFlow [math operations](https://www.tensorflow.org/api_docs/python/tf/math) convert Python objects and NumPy arrays to `tf.Tensor` objects. The `tf.Tensor.numpy` method returns the object's value as a NumPy `ndarray`."
   ]
  },
  {
   "cell_type": "code",
   "execution_count": 5,
   "metadata": {},
   "outputs": [
    {
     "name": "stdout",
     "output_type": "stream",
     "text": [
      "All the variables used till now are tf.tensor objects.\n",
      "a =  tf.Tensor(2.0, shape=(), dtype=float32)\n",
      "b =  tf.Tensor(3.0, shape=(), dtype=float32)\n",
      "c =  tf.Tensor(5.0, shape=(), dtype=float32)\n",
      "d =  tf.Tensor(6.0, shape=(), dtype=float32)\n"
     ]
    }
   ],
   "source": [
    "print('All the variables used till now are tf.tensor objects.')\n",
    "print('a = ', a)\n",
    "print('b = ', b)\n",
    "print('c = ', c)\n",
    "print('d = ', d)"
   ]
  },
  {
   "cell_type": "code",
   "execution_count": 6,
   "metadata": {},
   "outputs": [
    {
     "name": "stdout",
     "output_type": "stream",
     "text": [
      "TensorFlow tf.Tensor object: \n",
      " a =  tf.Tensor(\n",
      "[[1. 2.]\n",
      " [3. 4.]], shape=(2, 2), dtype=float32)\n",
      "Numpy ndarray: \n",
      " b =  [[5. 6.]\n",
      " [7. 8.]]\n"
     ]
    }
   ],
   "source": [
    "# Compatibility with Numpy\n",
    "# Numpy arrays and Tensorflow objects can be combined for computations\n",
    "# as explained in the above note\n",
    "a = tf.constant([[1, 2], [3, 4]], dtype=tf.float32)\n",
    "print('TensorFlow tf.Tensor object: \\n a = ', a)\n",
    "b = np.array([[5, 6], [7, 8]], dtype=np.float32)\n",
    "print('Numpy ndarray: \\n b = ', b)"
   ]
  },
  {
   "cell_type": "code",
   "execution_count": 7,
   "metadata": {},
   "outputs": [
    {
     "name": "stdout",
     "output_type": "stream",
     "text": [
      "Doing computations without calling tf.sessions\n",
      "a + b = c = \n",
      " [[ 6.  8.]\n",
      " [10. 12.]]\n",
      "a * b = d = \n",
      " [[19. 22.]\n",
      " [43. 50.]]\n"
     ]
    }
   ],
   "source": [
    "# Numpy ndarray will be converted to tf.Tensor object\n",
    "print('Doing computations without calling tf.sessions')\n",
    "c = a + b\n",
    "print('a + b = c = \\n {0}'.format(c))\n",
    "d = tf.matmul(a, b)\n",
    "print('a * b = d = \\n {0}'.format(d))"
   ]
  },
  {
   "cell_type": "code",
   "execution_count": 8,
   "metadata": {},
   "outputs": [
    {
     "name": "stdout",
     "output_type": "stream",
     "text": [
      "Iterating through tensor \"a\" :\n",
      "tf.Tensor(1.0, shape=(), dtype=float32)\n",
      "tf.Tensor(2.0, shape=(), dtype=float32)\n",
      "tf.Tensor(3.0, shape=(), dtype=float32)\n",
      "tf.Tensor(4.0, shape=(), dtype=float32)\n"
     ]
    }
   ],
   "source": [
    "print('Iterating through tensor \"a\" :')\n",
    "for i in range(a.shape[0]):\n",
    "    for j in range(a.shape[1]):\n",
    "        print(a[i][j])"
   ]
  },
  {
   "cell_type": "code",
   "execution_count": 9,
   "metadata": {},
   "outputs": [
    {
     "name": "stdout",
     "output_type": "stream",
     "text": [
      "All the variables used till now are tf.tensor objects.\n",
      "a =  tf.Tensor(\n",
      "[[1. 2.]\n",
      " [3. 4.]], shape=(2, 2), dtype=float32)\n",
      "b =  [[5. 6.]\n",
      " [7. 8.]]\n",
      "c =  tf.Tensor(\n",
      "[[ 6.  8.]\n",
      " [10. 12.]], shape=(2, 2), dtype=float32)\n",
      "d =  tf.Tensor(\n",
      "[[19. 22.]\n",
      " [43. 50.]], shape=(2, 2), dtype=float32)\n"
     ]
    }
   ],
   "source": [
    "print('All the variables used till now are tf.tensor objects.')\n",
    "print('a = ', a)\n",
    "print('b = ', b)\n",
    "print('c = ', c)\n",
    "print('d = ', d)"
   ]
  },
  {
   "cell_type": "code",
   "execution_count": 10,
   "metadata": {},
   "outputs": [
    {
     "name": "stdout",
     "output_type": "stream",
     "text": [
      "a * b = e = \n",
      " [[19. 22.]\n",
      " [43. 50.]]\n",
      "Note: \"e\" is numpy array now.\n"
     ]
    }
   ],
   "source": [
    "# As explained in the note we can pass tf.Tensor objects as arguments to \n",
    "# Numpy hence it works other way around also. \n",
    "e = np.matmul(a, b)\n",
    "print('a * b = e = \\n {0}'.format(e))\n",
    "print('Note: \"e\" is numpy array now.')"
   ]
  },
  {
   "cell_type": "code",
   "execution_count": 11,
   "metadata": {},
   "outputs": [
    {
     "name": "stdout",
     "output_type": "stream",
     "text": [
      "a =  [[1. 2.]\n",
      " [3. 4.]]\n"
     ]
    }
   ],
   "source": [
    "# Finally there is a easy way to convert tf.Tensor objects into Numpy arrays\n",
    "# Obtain numpy value from a tensor:\n",
    "a = a.numpy()\n",
    "print('a = ', a)"
   ]
  },
  {
   "cell_type": "markdown",
   "metadata": {},
   "source": [
    "The tf.contrib.eager module contains symbols available to both eager and graph execution environments and is useful for writing code to work with graphs: `tfe = tf.contrib.eager`. For more on this please refer to the links provided above."
   ]
  }
 ],
 "metadata": {
  "kernelspec": {
   "display_name": "Python 3",
   "language": "python",
   "name": "python3"
  },
  "language_info": {
   "codemirror_mode": {
    "name": "ipython",
    "version": 3
   },
   "file_extension": ".py",
   "mimetype": "text/x-python",
   "name": "python",
   "nbconvert_exporter": "python",
   "pygments_lexer": "ipython3",
   "version": "3.7.3"
  }
 },
 "nbformat": 4,
 "nbformat_minor": 2
}

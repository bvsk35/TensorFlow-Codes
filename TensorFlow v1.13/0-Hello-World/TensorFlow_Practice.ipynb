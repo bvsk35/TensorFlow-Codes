{
 "cells": [
  {
   "cell_type": "code",
   "execution_count": 1,
   "metadata": {},
   "outputs": [
    {
     "name": "stderr",
     "output_type": "stream",
     "text": [
      "C:\\ProgramData\\Anaconda3\\lib\\site-packages\\h5py\\__init__.py:72: UserWarning: h5py is running against HDF5 1.10.2 when it was built against 1.10.3, this may cause problems\n",
      "  '{0}.{1}.{2}'.format(*version.hdf5_built_version_tuple)\n"
     ]
    }
   ],
   "source": [
    "import tensorflow as tf\n",
    "import numpy as np\n",
    "import matplotlib.pyplot as plt\n",
    "import matplotlib.cm as cm\n",
    "import matplotlib.patches as mpatches"
   ]
  },
  {
   "cell_type": "code",
   "execution_count": 2,
   "metadata": {},
   "outputs": [],
   "source": [
    "def tf_reset():\n",
    "    try:\n",
    "        sess.close()\n",
    "    except:\n",
    "        pass\n",
    "    tf.reset_default_graph()\n",
    "    return tf.Session()"
   ]
  },
  {
   "cell_type": "code",
   "execution_count": 3,
   "metadata": {},
   "outputs": [
    {
     "name": "stdout",
     "output_type": "stream",
     "text": [
      "c = 3.0\n"
     ]
    }
   ],
   "source": [
    "# create the session you'll work in\n",
    "# you can think of this as a \"blank piece of paper\" that you'll be writing math on\n",
    "sess = tf_reset()\n",
    "\n",
    "# define your inputs\n",
    "a = tf.constant(1.0)\n",
    "b = tf.constant(2.0)\n",
    "\n",
    "# do some operations\n",
    "c = a + b\n",
    "\n",
    "# get the result\n",
    "c_run = sess.run(c)\n",
    "\n",
    "print('c = {0}'.format(c_run))"
   ]
  },
  {
   "cell_type": "markdown",
   "metadata": {},
   "source": [
    "### What is happening?\n",
    "* I have passed variables in odd fashion. "
   ]
  },
  {
   "cell_type": "code",
   "execution_count": 4,
   "metadata": {},
   "outputs": [
    {
     "name": "stdout",
     "output_type": "stream",
     "text": [
      "c1 = [[10.39  3.09]]\n",
      "c2 = [[-0.7550663  -0.18605018]]\n"
     ]
    }
   ],
   "source": [
    "sess = tf_reset()\n",
    "\n",
    "a = tf.placeholder(dtype=tf.float32, shape=[1, 2], name='a_placeholder')\n",
    "b = tf.placeholder(dtype=tf.float32, shape=[1, 2]) # , name='b_placeholder'\n",
    "\n",
    "c = a + b\n",
    "\n",
    "feed1 = np.random.uniform(1, -1, (1, 2))\n",
    "feed2 = np.random.normal(0, 1, (1, 2))\n",
    "\n",
    "c1_run = sess.run(c, feed_dict={a: [[1/2, 1]], b: [[9.89, 2.090]]})\n",
    "c2_run = sess.run(c, feed_dict={a: feed1, b: feed2})\n",
    "print('c1 = {}'.format(c1_run))\n",
    "print('c2 = {0}'.format(c2_run))"
   ]
  },
  {
   "cell_type": "markdown",
   "metadata": {},
   "source": [
    "### What is happening?\n",
    "* tf_reset(): starts tensorflow new session, it is a function defined by me it is not **tensorflow** function.\n",
    "* tf.placeholder: tensorflow func, defines the variable with data type, shape, and name. This info helps when we print it.\n",
    "* 'c = a + b: it tells what operations to do on variables a and b. You can directly write it in the sess.run(.) by replacing c.\n",
    "* sess_run: runs the session and does the operations specified by the user. Values are fed using dictionary. Value **given out by it** is a **numpy array**.\n",
    "* printing the variable 'a', 'b' gives you the variable info.\n",
    "* .format() is just a in-built python print function."
   ]
  },
  {
   "cell_type": "code",
   "execution_count": 5,
   "metadata": {},
   "outputs": [
    {
     "name": "stdout",
     "output_type": "stream",
     "text": [
      "a: Tensor(\"a_placeholder:0\", shape=(?, ?), dtype=float32)\n",
      "a shape = (?, ?)\n",
      "b: Tensor(\"b_placeholder:0\", shape=(?, ?), dtype=float32)\n",
      "b shape = (?, ?)\n",
      "c = [[35. 55.]]\n"
     ]
    }
   ],
   "source": [
    "sess = tf_reset()\n",
    "\n",
    "a = tf.placeholder(dtype=tf.float32, shape=[None, None], name='a_placeholder')\n",
    "b = tf.placeholder(dtype=tf.float32, shape=[None, None], name='b_placeholder')\n",
    "\n",
    "c = a + b\n",
    "\n",
    "c_run = sess.run(c, feed_dict={a: [[12, 12]], b: [[23, 43]]})\n",
    "print('a:', a)\n",
    "print('a shape = {}'.format(a.get_shape()))\n",
    "print('b:', b)\n",
    "print('b shape = {}'.format(b.get_shape()))\n",
    "print('c = {}'.format(c_run))"
   ]
  },
  {
   "cell_type": "markdown",
   "metadata": {},
   "source": [
    "### What is happening?\n",
    "* sess_run: here we see how to run the sess and compute the params. Here we are not performing any operations but just passing and printing it out.\n",
    "* Even though the data type is defined to be float32, but I passed integers."
   ]
  },
  {
   "cell_type": "code",
   "execution_count": 6,
   "metadata": {},
   "outputs": [
    {
     "name": "stdout",
     "output_type": "stream",
     "text": [
      "a: \n",
      " Tensor(\"Const:0\", shape=(1, 3), dtype=float32)\n",
      "b: \n",
      " Tensor(\"Const_1:0\", shape=(3, 1), dtype=float32)\n",
      "a_run: \n",
      " [[1. 2. 3.]]\n",
      "b_run: \n",
      " [[1.]\n",
      " [2.]\n",
      " [3.]]\n"
     ]
    }
   ],
   "source": [
    "sess = tf_reset()\n",
    "\n",
    "a = tf.constant([[1, 2, 3]], dtype=tf.float32)\n",
    "b = tf.constant([[1], [2], [3]], dtype=tf.float32)\n",
    "\n",
    "a_run, b_run = sess.run([a, b])\n",
    "print('a: \\n', a)\n",
    "print('b: \\n', b)\n",
    "print('a_run: \\n', a_run)\n",
    "print('b_run: \\n', b_run)"
   ]
  },
  {
   "cell_type": "code",
   "execution_count": 7,
   "metadata": {},
   "outputs": [
    {
     "name": "stdout",
     "output_type": "stream",
     "text": [
      "b:\n",
      "[[1.]\n",
      " [2.]\n",
      " [3.]]\n",
      "c:\n",
      "[[2.]\n",
      " [4.]\n",
      " [6.]]\n"
     ]
    }
   ],
   "source": [
    "c = b + b\n",
    "\n",
    "c_run = sess.run(c) # since a, b are constants you don't feed values to it\n",
    "print('b:\\n{0}'.format(b_run))\n",
    "print('c:\\n{0}'.format(c_run))"
   ]
  },
  {
   "cell_type": "markdown",
   "metadata": {},
   "source": [
    "### What is happening?\n",
    "* You need to check dimensions of the tensors before feeding. Otherwise you end up getting this. Same issue when using numpy array."
   ]
  },
  {
   "cell_type": "code",
   "execution_count": 8,
   "metadata": {},
   "outputs": [
    {
     "name": "stdout",
     "output_type": "stream",
     "text": [
      "a_run: \n",
      " [[1. 2. 3.]]\n",
      "b_run: \n",
      " [[1.]\n",
      " [2.]\n",
      " [3.]]\n",
      "c_run: \n",
      " [[2. 3. 4.]\n",
      " [3. 4. 5.]\n",
      " [4. 5. 6.]]\n"
     ]
    }
   ],
   "source": [
    "c = a + b\n",
    "c_run = sess.run(c)\n",
    "print('a_run: \\n', a_run)\n",
    "print('b_run: \\n', b_run)\n",
    "print('c_run: \\n', c_run)"
   ]
  },
  {
   "cell_type": "markdown",
   "metadata": {},
   "source": [
    "### What is happening?\n",
    "* Showing how to do element-wise computation and matrix multiplication.\n",
    "* We can also see how to do multiple computation in one session. "
   ]
  },
  {
   "cell_type": "code",
   "execution_count": 9,
   "metadata": {},
   "outputs": [
    {
     "name": "stdout",
     "output_type": "stream",
     "text": [
      "Element-wise/Component-wise: \n",
      " [[1. 2. 3.]\n",
      " [2. 4. 6.]\n",
      " [3. 6. 9.]]\n",
      "Matrix multiplication: \n",
      " [[14.]]\n"
     ]
    }
   ],
   "source": [
    "c_element_wise = a * b\n",
    "c_matrix = tf.matmul(a, b)\n",
    "\n",
    "c_run1, c_run2 = sess.run([c_element_wise, c_matrix])\n",
    "print('Element-wise/Component-wise: \\n', c_run1)\n",
    "print('Matrix multiplication: \\n', c_run2)"
   ]
  },
  {
   "cell_type": "markdown",
   "metadata": {},
   "source": [
    "### What is happening?\n",
    "* Showing how to do chained computations."
   ]
  },
  {
   "cell_type": "code",
   "execution_count": 10,
   "metadata": {},
   "outputs": [
    {
     "name": "stdout",
     "output_type": "stream",
     "text": [
      "c0: \n",
      " [[2.]\n",
      " [4.]\n",
      " [6.]]\n",
      "c1: \n",
      " [[3.]\n",
      " [5.]\n",
      " [7.]]\n"
     ]
    }
   ],
   "source": [
    "c0 = b + b\n",
    "c1 = c0 + 1\n",
    "\n",
    "c0_run, c1_run = sess.run([c0, c1])\n",
    "print('c0: \\n', c0_run)\n",
    "print('c1: \\n', c1_run)"
   ]
  },
  {
   "cell_type": "markdown",
   "metadata": {},
   "source": [
    "### What is happening?\n",
    "* There are many more in-built functions similar to numpy to compute mean,..., etc."
   ]
  },
  {
   "cell_type": "code",
   "execution_count": 11,
   "metadata": {},
   "outputs": [
    {
     "name": "stdout",
     "output_type": "stream",
     "text": [
      "b_run: \n",
      " [[1.]\n",
      " [2.]\n",
      " [3.]]\n",
      "Mean of b_run: \n",
      " 2.0\n"
     ]
    }
   ],
   "source": [
    "c = tf.reduce_mean(b)\n",
    "\n",
    "c_run = sess.run(c)\n",
    "print('b_run: \\n', b_run)\n",
    "print('Mean of b_run: \\n', c_run)"
   ]
  },
  {
   "cell_type": "markdown",
   "metadata": {},
   "source": [
    "### What is happening?\n",
    "Now that we can input data and perform computations, we want some of these operations to involve variables that are free parameters, and can be trained using an optimizer (e.g., gradient descent).\n",
    "\n",
    " **Note:** Tensor flow in-built functions have many aliases for the same function. Don't get confused. All of the them will work.\n",
    "\n",
    "Definitions of some important function:\n",
    "* tf.get_variable: creates a tensorflow variable. Gets an existing variable with these parameters or create a new one.\n",
    "* tf.constant_initializer: Initializer that generates tensors with constant values.\n",
    "* tf.global_variables: Returns global variables. Global variables are variables that are shared across machines in a distributed environment. The Variable() constructor or get_variable() automatically adds new variables to the graph collection GraphKeys.GLOBAL_VARIABLES. This convenience function returns the contents of that collection.\n",
    "* tf.global_variables_initializer: initializes global variables in the graph. This is just a shortcut for variables_initializer(global_variables())\n",
    "\n",
    "Flow of the code\n",
    "* First I have created some variables to do computations. Then created a new variable and and check that it's been added to Tensorflow's variables list. We can do operations with the variable just like any other tensor. Before we can run any of these operations, we must first initalize the variables and then we can run the operations just as we normally would."
   ]
  },
  {
   "cell_type": "code",
   "execution_count": 12,
   "metadata": {},
   "outputs": [
    {
     "name": "stdout",
     "output_type": "stream",
     "text": [
      "b_run: \n",
      " [[1. 2. 3.]]\n"
     ]
    }
   ],
   "source": [
    "sess = tf_reset()\n",
    "\n",
    "b = tf.constant([[1., 2., 3.]], dtype=tf.float32)\n",
    "\n",
    "b_run = sess.run(b)\n",
    "print('b_run: \\n', b_run)"
   ]
  },
  {
   "cell_type": "code",
   "execution_count": 13,
   "metadata": {},
   "outputs": [],
   "source": [
    "var_init_value = [[2.0, 4.0, 6.0]]\n",
    "var = tf.get_variable(name='myvar', shape=[1, 3], dtype=tf.float32, initializer=tf.constant_initializer(var_init_value))\n",
    "# you can't rerun this cell because when in same tf session re-creation of the variable 'var' is not allowed."
   ]
  },
  {
   "cell_type": "code",
   "execution_count": 14,
   "metadata": {},
   "outputs": [
    {
     "name": "stdout",
     "output_type": "stream",
     "text": [
      "<tf.Variable 'myvar:0' shape=(1, 3) dtype=float32_ref>\n",
      "[<tf.Variable 'myvar:0' shape=(1, 3) dtype=float32_ref>]\n"
     ]
    }
   ],
   "source": [
    "print(var)\n",
    "print(tf.global_variables())"
   ]
  },
  {
   "cell_type": "code",
   "execution_count": 15,
   "metadata": {},
   "outputs": [
    {
     "name": "stdout",
     "output_type": "stream",
     "text": [
      "b: \n",
      " Tensor(\"Const:0\", shape=(1, 3), dtype=float32)\n",
      "var: \n",
      " <tf.Variable 'myvar:0' shape=(1, 3) dtype=float32_ref>\n",
      "c: \n",
      " Tensor(\"add:0\", shape=(1, 3), dtype=float32)\n"
     ]
    }
   ],
   "source": [
    "c = b + var\n",
    "print('b: \\n', b)\n",
    "print('var: \\n', var)\n",
    "print('c: \\n', c)"
   ]
  },
  {
   "cell_type": "code",
   "execution_count": 16,
   "metadata": {},
   "outputs": [],
   "source": [
    "init_op = tf.global_variables_initializer()\n",
    "sess.run(init_op)"
   ]
  },
  {
   "cell_type": "code",
   "execution_count": 17,
   "metadata": {},
   "outputs": [
    {
     "name": "stdout",
     "output_type": "stream",
     "text": [
      "b_run: \n",
      " [[1. 2. 3.]]\n",
      "var_init_value: \n",
      " [[2.0, 4.0, 6.0]]\n",
      "c_run: \n",
      " [[3. 6. 9.]]\n"
     ]
    }
   ],
   "source": [
    "c_run = sess.run(c)\n",
    "\n",
    "print('b_run: \\n', b_run)\n",
    "print('var_init_value: \\n', var_init_value)\n",
    "print('c_run: \\n', c_run)"
   ]
  },
  {
   "cell_type": "markdown",
   "metadata": {},
   "source": [
    "### What is happening?\n",
    "### How to train a neural network for a simple regression problem?\n",
    "We've discussed how to input data, perform operations, and create variables. We'll now show how to combine all of these **with some minor additions** to train a neural network on a simple regression problem.\n",
    "* First, we'll create data for a 1-dimensional regression problem.\n",
    "* The below code creates the inputs, variables, neural network operations, mean-squared-error loss, gradient descent optimizer, and runs the optimizer using minibatches of the data.\n",
    "* Now that the neural network is trained, we can use it to make predictions."
   ]
  },
  {
   "cell_type": "code",
   "execution_count": 18,
   "metadata": {},
   "outputs": [
    {
     "data": {
      "image/png": "[encoded data removed]",
      "text/plain": [
       "<Figure size 432x288 with 1 Axes>"
      ]
     },
     "metadata": {
      "needs_background": "light"
     },
     "output_type": "display_data"
    }
   ],
   "source": [
    "# generate the data\n",
    "inputs = np.linspace(-2*np.pi, 2*np.pi, 10000)[:, None]\n",
    "outputs = np.sin(inputs) + 0.05 * np.random.normal(size=[len(inputs),1])\n",
    "\n",
    "plt.scatter(inputs[:, 0], outputs[:, 0], s=0.1, color='k', marker='o')\n",
    "plt.show()"
   ]
  },
  {
   "cell_type": "code",
   "execution_count": 22,
   "metadata": {},
   "outputs": [
    {
     "name": "stdout",
     "output_type": "stream",
     "text": [
      "0000 mse: 0.433\n",
      "1000 mse: 0.038\n",
      "2000 mse: 0.015\n",
      "3000 mse: 0.021\n",
      "4000 mse: 0.008\n",
      "5000 mse: 0.006\n",
      "6000 mse: 0.002\n",
      "7000 mse: 0.002\n",
      "8000 mse: 0.001\n",
      "9000 mse: 0.002\n"
     ]
    }
   ],
   "source": [
    "sess = tf_reset()\n",
    "\n",
    "# NN model\n",
    "def create_model():\n",
    "    # Inputs and Outputs\n",
    "    input_layer = tf.placeholder(dtype=tf.float32, shape=[None, 1])\n",
    "    output_layer = tf.placeholder(dtype=tf.float32, shape=[None, 1])\n",
    "    \n",
    "    # Create Weights\n",
    "    W0 = tf.get_variable(name='W0', shape=[1, 20], initializer=tf.contrib.layers.xavier_initializer())\n",
    "    W1 = tf.get_variable(name='W1', shape=[20, 20], initializer=tf.contrib.layers.xavier_initializer())\n",
    "    W2 = tf.get_variable(name='W2', shape=[20, 1], initializer=tf.contrib.layers.xavier_initializer())\n",
    "    \n",
    "    # Bias\n",
    "    b0 = tf.get_variable(name='b0', shape=[20], initializer=tf.constant_initializer(0.0))\n",
    "    b1 = tf.get_variable(name='b1', shape=[20], initializer=tf.constant_initializer(0.0))\n",
    "    b2 = tf.get_variable(name='b2', shape=[1], initializer=tf.constant_initializer(0.0))\n",
    "    \n",
    "    # List of all the variables\n",
    "    weights = [W0, W1, W2]\n",
    "    bias = [b0, b1, b2]\n",
    "    activations = [tf.nn.relu, tf.nn.relu, None]\n",
    "    \n",
    "    # Forward Pass or create computation graph\n",
    "    layer = input_layer\n",
    "    for W, b, phi in zip(weights, bias, activations):\n",
    "        layer = tf.matmul(layer, W) + b\n",
    "        if phi is not None:\n",
    "            layer = phi(layer)\n",
    "    \n",
    "    output_pred = layer\n",
    "    \n",
    "    return input_layer, output_layer, output_pred\n",
    "\n",
    "input_layer, output_layer, output_pred = create_model()\n",
    "\n",
    "# Loss\n",
    "mse = tf.reduce_mean(0.5 * tf.square(output_pred - output_layer))\n",
    "\n",
    "# Optimizer\n",
    "opt = tf.train.AdamOptimizer().minimize(mse)\n",
    "\n",
    "# Initialize the variables\n",
    "sess.run(tf.global_variables_initializer())\n",
    "\n",
    "# Create saver to save model variables\n",
    "saver = tf.train.Saver()\n",
    "\n",
    "# Run training\n",
    "batch_size = 32\n",
    "for training_step in range(10000):\n",
    "    # get a random subset of the training data\n",
    "    indices = np.random.randint(low=0, high=len(inputs), size=batch_size)\n",
    "    input_batch = inputs[indices]\n",
    "    output_batch = outputs[indices]\n",
    "    \n",
    "    # run the optimizer and get the mse\n",
    "    _, mse_run = sess.run([opt, mse], feed_dict={input_layer: input_batch, output_layer: output_batch})\n",
    "    \n",
    "    # print the mse every so often\n",
    "    if training_step % 1000 == 0:\n",
    "        print('{0:04d} mse: {1:.3f}'.format(training_step, mse_run))\n",
    "        saver.save(sess, '/tmp/model.ckpt')"
   ]
  },
  {
   "cell_type": "code",
   "execution_count": 24,
   "metadata": {},
   "outputs": [
    {
     "name": "stdout",
     "output_type": "stream",
     "text": [
      "INFO:tensorflow:Restoring parameters from /tmp/model.ckpt\n"
     ]
    },
    {
     "data": {
      "image/png": "[encoded data removed]",
      "text/plain": [
       "<Figure size 432x288 with 1 Axes>"
      ]
     },
     "metadata": {
      "needs_background": "light"
     },
     "output_type": "display_data"
    }
   ],
   "source": [
    "sess = tf_reset()\n",
    "\n",
    "# Create the model\n",
    "input_layer, output_layer, output_pred = create_model()\n",
    "\n",
    "# Restore the model \n",
    "saver = tf.train.Saver()\n",
    "saver.restore(sess, \"/tmp/model.ckpt\")\n",
    "\n",
    "output_pred_run = sess.run(output_pred, feed_dict={input_layer: inputs})\n",
    "\n",
    "plt.scatter(inputs[:, 0], outputs[:, 0], c='k', marker='o', s=0.1)\n",
    "plt.scatter(inputs[:, 0], output_pred_run[:, 0], c='r', marker='o', s=0.1)\n",
    "plt.show()"
   ]
  }
 ],
 "metadata": {
  "kernelspec": {
   "display_name": "Python 3",
   "language": "python",
   "name": "python3"
  },
  "language_info": {
   "codemirror_mode": {
    "name": "ipython",
    "version": 3
   },
   "file_extension": ".py",
   "mimetype": "text/x-python",
   "name": "python",
   "nbconvert_exporter": "python",
   "pygments_lexer": "ipython3",
   "version": "3.6.7"
  }
 },
 "nbformat": 4,
 "nbformat_minor": 2
}

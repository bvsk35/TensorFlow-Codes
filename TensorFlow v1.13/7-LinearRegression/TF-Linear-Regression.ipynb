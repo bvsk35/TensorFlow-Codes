{
 "cells": [
  {
   "cell_type": "markdown",
   "metadata": {},
   "source": [
    "# TensorFlow \n",
    "## Linear Regression Model\n",
    "### by [Sameer Kumar](https://sites.google.com/view/bvsk35/home?authuser=0)"
   ]
  },
  {
   "cell_type": "markdown",
   "metadata": {},
   "source": [
    "## Part 1\n",
    "**Here I have implemented a simple linear regression model.**"
   ]
  },
  {
   "cell_type": "code",
   "execution_count": 1,
   "metadata": {},
   "outputs": [],
   "source": [
    "# Import Libraries:\n",
    "import numpy as np\n",
    "import matplotlib.pyplot as plt\n",
    "import tensorflow as tf"
   ]
  },
  {
   "cell_type": "code",
   "execution_count": 2,
   "metadata": {},
   "outputs": [
    {
     "data": {
      "image/png": "[encoded data removed]",
      "text/plain": [
       "<Figure size 576x432 with 1 Axes>"
      ]
     },
     "metadata": {
      "needs_background": "light"
     },
     "output_type": "display_data"
    }
   ],
   "source": [
    "# Generate Dataset for training:\n",
    "Train_X = np.arange(1, 51) # Inputs\n",
    "Train_Y = np.arange(1, 51) + np.random.uniform(-1, 1, (50,)) # Output\n",
    "N = Train_X.shape[0] # Total no.of samples\n",
    "\n",
    "# Visulazing the dataset:\n",
    "# This dataset is a simple set of scattered points around the X = Y line\n",
    "plt.figure(figsize=(8, 6))\n",
    "plt.plot(Train_X, Train_Y, 'r.')\n",
    "plt.xlabel(r'Inputs $\\rightarrow$')\n",
    "plt.ylabel(r'Output $\\rightarrow$')\n",
    "plt.title('Visualising Dataset')\n",
    "plt.show()"
   ]
  },
  {
   "cell_type": "markdown",
   "metadata": {},
   "source": [
    "## Note:\n",
    " - If we are using `tf.train.GradientDescentOptimizer` (works on gradient descent routine) then we will need extremely low learning rate to stablize the learning during training. Hence it is bette to divide the learning rate parameter $\\eta$ with total no. of training samples. \n",
    " - If we are using `tf.train.AdamOptimizer` (works on Adam's optimization routine) then we can choose learning rate $\\eta$ $\\approx$ 0.01. This method provides more stable learning. It is always better to use Adam's optimzation method over gradient descent. "
   ]
  },
  {
   "cell_type": "code",
   "execution_count": 3,
   "metadata": {},
   "outputs": [],
   "source": [
    "# Parameters for training:\n",
    "opt_choice = 'Adam' # Chose optimization routine, other option is 'SGD'\n",
    "eta = 0.01 # Learning rate\n",
    "max_iter = 1000 # Total training epochs\n",
    "verbose_freq = 200 # Frequency of printing stats of training\n",
    "batch_size = 32 # Batch size\n",
    "batch_training = False # Chose between batch and online learning"
   ]
  },
  {
   "cell_type": "code",
   "execution_count": 6,
   "metadata": {},
   "outputs": [
    {
     "name": "stdout",
     "output_type": "stream",
     "text": [
      "WARNING:tensorflow:From C:\\ProgramData\\Anaconda3\\lib\\site-packages\\tensorflow\\python\\framework\\op_def_library.py:263: colocate_with (from tensorflow.python.framework.ops) is deprecated and will be removed in a future version.\n",
      "Instructions for updating:\n",
      "Colocations handled automatically by placer.\n"
     ]
    }
   ],
   "source": [
    "# Variables for the tensorflow computation graph:\n",
    "# Placeholder variables i.e., variables which will be fed as input to the model\n",
    "X = tf.placeholder(shape=[None, 1], name='input', dtype=tf.float32)\n",
    "Y = tf.placeholder(shape=[None, 1], name='output', dtype=tf.float32)\n",
    "\n",
    "# Variables that will be initialised with some value and will be modified \n",
    "# during training based on loss optimization\n",
    "W = tf.get_variable(name='Weights', shape=[1, 1], initializer=tf.constant_initializer(np.random.randn())) # Weights\n",
    "b = tf.get_variable(name='Bias', shape=[1], initializer=tf.constant_initializer(np.random.randn())) # Bias"
   ]
  },
  {
   "cell_type": "markdown",
   "metadata": {},
   "source": [
    "## Note:\n",
    "- `tf.reduce_mean`: it takes sum of the all elements in the array and divides it with no. of elements in the array ([link](https://www.tensorflow.org/api_docs/python/tf/math/reduce_mean)). \n",
    "- `tf.reduce_sum`: it takes the sum of the all elements in the array ([link](https://www.tensorflow.org/api_docs/python/tf/math/reduce_sum)). \n",
    "\n",
    "Use `tf.reduce_sum` and divide it with `2 * N`, where N corresponds to total no. of training samples. \n",
    "\n",
    "- Also very important thing since we have just 50 samples in traning set using batch learning is very bad don't use it. To make batch learning for this case we will need more modifcation of learning rate and total epochs. Just use the code for future refernce. \n",
    "- Hence for this problem default case should be Adam optimzer with default learning rate and online learning. With these arguments the code will work very well. "
   ]
  },
  {
   "cell_type": "code",
   "execution_count": 7,
   "metadata": {},
   "outputs": [],
   "source": [
    "# Construct the computation graph for training i.e.,\n",
    "# create the model\n",
    "# Predicted Output\n",
    "pred = tf.add(tf.matmul(W, tf.transpose(X)), b)\n",
    "\n",
    "# Loss: Mean Squared Error\n",
    "loss = tf.reduce_sum(0.5 * tf.square(pred - Y))/N\n",
    "\n",
    "# Optimizer\n",
    "if opt_choice == 'Adam':\n",
    "    opt = tf.train.AdamOptimizer(learning_rate=eta).minimize(loss)\n",
    "elif opt_choice == 'SGD':\n",
    "    # To make learning stable divide eta with N\n",
    "    eta = eta/N\n",
    "    opt = tf.train.GradientDescentOptimizer(learning_rate=eta).minimize(loss)"
   ]
  },
  {
   "cell_type": "code",
   "execution_count": 8,
   "metadata": {},
   "outputs": [
    {
     "name": "stdout",
     "output_type": "stream",
     "text": [
      "Epoch: 0000 Loss: 0.003 W: [[0.98323923]] b: [0.50048065]\n",
      "Epoch: 0200 Loss: 0.002 W: [[0.988163]] b: [0.04451672]\n",
      "Epoch: 0400 Loss: 0.002 W: [[0.988163]] b: [0.0445159]\n",
      "Epoch: 0600 Loss: 0.002 W: [[0.988163]] b: [0.0445159]\n",
      "Epoch: 0800 Loss: 0.002 W: [[0.988163]] b: [0.0445159]\n",
      "Epoch: 1000 Loss: 0.002 W: [[0.988163]] b: [0.0445159]\n"
     ]
    }
   ],
   "source": [
    "# Run the model\n",
    "# Create the session\n",
    "sess = tf.Session()\n",
    "\n",
    "# Initialize the variables\n",
    "sess.run(tf.global_variables_initializer())\n",
    "\n",
    "# Training the model: one training_step corresponds to one training iteration/epoch\n",
    "if batch_training:\n",
    "    # Batch Learning\n",
    "    for training_step in range(max_iter+1):\n",
    "        # Training using batches\n",
    "        # Generate random training batch\n",
    "        indices = np.random.randint(low=0, high=N, size=batch_size)\n",
    "        Train_X_Batch = Train_X[indices].reshape(batch_size, 1)\n",
    "        Train_Y_Batch = Train_Y[indices].reshape(batch_size, 1)\n",
    "\n",
    "        # Run optimizer and get loss\n",
    "        # We can first run optimizer (which gives no output) and \n",
    "        # then run/compute loss (which will give output) or we can do \n",
    "        # everything in one line like below\n",
    "        _, loss_run = sess.run([opt, loss], feed_dict={X:Train_X_Batch, Y:Train_Y_Batch})\n",
    "\n",
    "        # Print every so often\n",
    "        if training_step % verbose_freq == 0:\n",
    "            print('Epoch: {0:04d} Loss: {1:.3f}'.format(training_step, loss_run), 'W:', sess.run(W), 'b:', sess.run(b))\n",
    "else:\n",
    "    # Online Learning\n",
    "    for training_step in range(max_iter+1):\n",
    "        for (x, y) in zip(Train_X, Train_Y):\n",
    "            _, loss_run = sess.run([opt, loss], feed_dict={X: x.reshape(1, 1), Y: y.reshape(1, 1)})\n",
    "\n",
    "        # Print every so often\n",
    "        if training_step % verbose_freq == 0:\n",
    "            print('Epoch: {0:04d} Loss: {1:.3f}'.format(training_step, loss_run), 'W:', sess.run(W), 'b:', sess.run(b))"
   ]
  },
  {
   "cell_type": "code",
   "execution_count": 9,
   "metadata": {},
   "outputs": [
    {
     "data": {
      "image/png": "[encoded data removed]",
      "text/plain": [
       "<Figure size 576x432 with 1 Axes>"
      ]
     },
     "metadata": {
      "needs_background": "light"
     },
     "output_type": "display_data"
    }
   ],
   "source": [
    "# Plot Final Result\n",
    "plt.figure(figsize=(8, 6))\n",
    "plt.plot(Train_X, Train_Y, 'r.', label='Original data')\n",
    "plt.plot(Train_X.reshape(N, 1), Train_X.reshape(50, 1) * sess.run(W) + sess.run(b), label='Fitted line')\n",
    "plt.legend()\n",
    "plt.show()"
   ]
  },
  {
   "cell_type": "code",
   "execution_count": 10,
   "metadata": {},
   "outputs": [],
   "source": [
    "# Close the current tensorflow session\n",
    "sess.close()"
   ]
  }
 ],
 "metadata": {
  "kernelspec": {
   "display_name": "Python 3",
   "language": "python",
   "name": "python3"
  },
  "language_info": {
   "codemirror_mode": {
    "name": "ipython",
    "version": 3
   },
   "file_extension": ".py",
   "mimetype": "text/x-python",
   "name": "python",
   "nbconvert_exporter": "python",
   "pygments_lexer": "ipython3",
   "version": "3.7.3"
  }
 },
 "nbformat": 4,
 "nbformat_minor": 2
}

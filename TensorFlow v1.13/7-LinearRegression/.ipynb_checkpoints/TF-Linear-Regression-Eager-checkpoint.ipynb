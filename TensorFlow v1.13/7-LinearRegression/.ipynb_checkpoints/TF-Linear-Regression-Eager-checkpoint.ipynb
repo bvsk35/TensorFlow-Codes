{
 "cells": [
  {
   "cell_type": "markdown",
   "metadata": {},
   "source": [
    "# TensorFlow \n",
    "## Linear Regression Model using Eager API\n",
    "### by [Sameer Kumar](https://sites.google.com/view/bvsk35/home?authuser=0)"
   ]
  },
  {
   "cell_type": "markdown",
   "metadata": {},
   "source": [
    "## Part 2\n",
    "**Here I have implemented a simple linear regression model using Eager API.**"
   ]
  },
  {
   "cell_type": "markdown",
   "metadata": {},
   "source": [
    "## Note\n",
    "- Remember that once tensorflow eager has been enabled it can't be turned off. We will need to restart everything. \n",
    "- Once tensorflow eager has been enabled then we can build models for training and for other purposes as explained [here](https://www.tensorflow.org/guide/eager). We can also use `tf.contrib.eager` module which contains functions which can be used for graph execution as described [here](https://www.tensorflow.org/api_docs/python/tf/contrib/eager).\n",
    "- `implicit_gradients`: [here](https://www.tensorflow.org/api_docs/python/tf/contrib/eager/implicit_gradients) you can find how to implement gradient descent using Eager API. It uses the [apply_gradients](https://www.tensorflow.org/api_docs/python/tf/train/AdamOptimizer#apply_gradients) method."
   ]
  },
  {
   "cell_type": "code",
   "execution_count": 1,
   "metadata": {},
   "outputs": [],
   "source": [
    "# Import Libraries:\n",
    "import numpy as np\n",
    "import matplotlib.pyplot as plt\n",
    "import tensorflow as tf"
   ]
  },
  {
   "cell_type": "code",
   "execution_count": 2,
   "metadata": {},
   "outputs": [
    {
     "name": "stdout",
     "output_type": "stream",
     "text": [
      "\n",
      "WARNING: The TensorFlow contrib module will not be included in TensorFlow 2.0.\n",
      "For more information, please see:\n",
      "  * https://github.com/tensorflow/community/blob/master/rfcs/20180907-contrib-sunset.md\n",
      "  * https://github.com/tensorflow/addons\n",
      "If you depend on functionality not listed there, please file an issue.\n",
      "\n"
     ]
    }
   ],
   "source": [
    "# Set Eager API\n",
    "tf.enable_eager_execution()\n",
    "tfe = tf.contrib.eager"
   ]
  },
  {
   "cell_type": "code",
   "execution_count": 3,
   "metadata": {},
   "outputs": [],
   "source": [
    "# Generate the data\n",
    "Train_X = np.arange(1, 51).astype(np.float64) # Inputs\n",
    "Train_Y = np.arange(1, 51) + np.random.uniform(-1, 1, (50,)).astype(np.float64) # Output\n",
    "N = Train_X.shape[0] # Total no.of samples"
   ]
  },
  {
   "cell_type": "code",
   "execution_count": 4,
   "metadata": {},
   "outputs": [],
   "source": [
    "# Parameters for training:\n",
    "max_iter = 10000 # Total training epochs\n",
    "verbose_freq = 200 # Frequency of printing stats of training"
   ]
  },
  {
   "cell_type": "code",
   "execution_count": 5,
   "metadata": {},
   "outputs": [],
   "source": [
    "# Variables for the tensorflow computation graph:\n",
    "# Variables that will be initialised with some value and will be modified \n",
    "# during training based on loss optimization\n",
    "W = tfe.Variable(initial_value=np.random.uniform(-1, 1, size=(1,1)), name='Weights') # Weights\n",
    "b = tfe.Variable(initial_value=np.random.uniform(-1, 1, size=(1)), name='Bias') # Bias"
   ]
  },
  {
   "cell_type": "code",
   "execution_count": 6,
   "metadata": {},
   "outputs": [],
   "source": [
    "def linear_reg(inputs, labels):\n",
    "    # Predicted Output\n",
    "    pred = tf.add(tf.matmul(W, tf.transpose(inputs)), b)\n",
    "    # Loss: Mean Squared Error\n",
    "    loss = tf.reduce_sum(0.5 * tf.square(pred - labels))/N\n",
    "    return loss\n",
    "\n",
    "opt = tf.train.AdamOptimizer()\n",
    "# opt = tf.train.GradientDescentOptimizer(learning_rate=0.01)\n",
    "\n",
    "# Compute Gradients\n",
    "grad = tfe.implicit_gradients(linear_reg)"
   ]
  },
  {
   "cell_type": "code",
   "execution_count": 7,
   "metadata": {
    "scrolled": true
   },
   "outputs": [
    {
     "name": "stdout",
     "output_type": "stream",
     "text": [
      "Initial Cost: 20556.0293 W: [[0.01566877]] b: [0.37422908]\n",
      "WARNING:tensorflow:From C:\\ProgramData\\Anaconda3\\lib\\site-packages\\tensorflow\\python\\distribute\\distribute_lib.py:1595: colocate_with (from tensorflow.python.framework.ops) is deprecated and will be removed in a future version.\n",
      "Instructions for updating:\n",
      "Colocations handled automatically by placer.\n",
      "Epoch: 0000 Loss: 20523.411 W: [[0.01666877]] b: [0.37522908]\n",
      "Epoch: 0200 Loss: 15204.318 W: [[0.20435495]] b: [0.56614379]\n",
      "Epoch: 0400 Loss: 11977.366 W: [[0.36152712]] b: [0.73583842]\n",
      "Epoch: 0600 Loss: 10208.925 W: [[0.48649018]] b: [0.88551465]\n",
      "Epoch: 0800 Loss: 9350.224 W: [[0.5793478]] b: [1.01791928]\n",
      "Epoch: 1000 Loss: 8983.969 W: [[0.64260446]] b: [1.13726534]\n",
      "Epoch: 1200 Loss: 8841.238 W: [[0.6812179]] b: [1.24877027]\n",
      "Epoch: 1400 Loss: 8780.563 W: [[0.70161404]] b: [1.35775517]\n",
      "Epoch: 1600 Loss: 8742.768 W: [[0.71014623]] b: [1.46871341]\n",
      "Epoch: 1800 Loss: 8708.533 W: [[0.7118729]] b: [1.58476712]\n",
      "Epoch: 2000 Loss: 8673.064 W: [[0.7101331]] b: [1.70763584]\n",
      "Epoch: 2200 Loss: 8635.573 W: [[0.70678538]] b: [1.83794995]\n",
      "Epoch: 2400 Loss: 8596.118 W: [[0.70271123]] b: [1.97565496]\n",
      "Epoch: 2600 Loss: 8554.890 W: [[0.69827198]] b: [2.12033725]\n",
      "Epoch: 2800 Loss: 8512.106 W: [[0.69360183]] b: [2.27142449]\n",
      "Epoch: 3000 Loss: 8467.980 W: [[0.68875336]] b: [2.42828865]\n",
      "Epoch: 3200 Loss: 8422.723 W: [[0.68375476]] b: [2.59029486]\n",
      "Epoch: 3400 Loss: 8376.536 W: [[0.67862763]] b: [2.75682627]\n",
      "Epoch: 3600 Loss: 8329.608 W: [[0.67339108]] b: [2.92729901]\n",
      "Epoch: 3800 Loss: 8282.108 W: [[0.66806241]] b: [3.10117191]\n",
      "Epoch: 4000 Loss: 8234.193 W: [[0.66265703]] b: [3.27795237]\n",
      "Epoch: 4200 Loss: 8185.997 W: [[0.65718847]] b: [3.45719905]\n",
      "Epoch: 4400 Loss: 8137.642 W: [[0.65166846]] b: [3.6385219]\n",
      "Epoch: 4600 Loss: 8089.229 W: [[0.646107]] b: [3.82158032]\n",
      "Epoch: 4800 Loss: 8040.848 W: [[0.64051255]] b: [4.00607982]\n",
      "Epoch: 5000 Loss: 7992.573 W: [[0.63489219]] b: [4.19176799]\n",
      "Epoch: 5200 Loss: 7944.468 W: [[0.62925181]] b: [4.37843006]\n",
      "Epoch: 5400 Loss: 7896.584 W: [[0.62359625]] b: [4.56588441]\n",
      "Epoch: 5600 Loss: 7848.965 W: [[0.61792947]] b: [4.75397821]\n",
      "Epoch: 5800 Loss: 7801.649 W: [[0.61225471]] b: [4.94258343]\n",
      "Epoch: 6000 Loss: 7754.664 W: [[0.60657457]] b: [5.13159318]\n",
      "Epoch: 6200 Loss: 7708.036 W: [[0.60089115]] b: [5.32091846]\n",
      "Epoch: 6400 Loss: 7661.784 W: [[0.59520612]] b: [5.51048537]\n",
      "Epoch: 6600 Loss: 7615.925 W: [[0.58952083]] b: [5.70023261]\n",
      "Epoch: 6800 Loss: 7570.471 W: [[0.58383633]] b: [5.8901094]\n",
      "Epoch: 7000 Loss: 7525.435 W: [[0.57815344]] b: [6.08007375]\n",
      "Epoch: 7200 Loss: 7480.824 W: [[0.57247281]] b: [6.27009089]\n",
      "Epoch: 7400 Loss: 7436.645 W: [[0.56679495]] b: [6.46013205]\n",
      "Epoch: 7600 Loss: 7392.905 W: [[0.56112023]] b: [6.65017339]\n",
      "Epoch: 7800 Loss: 7349.607 W: [[0.55544895]] b: [6.84019515]\n",
      "Epoch: 8000 Loss: 7306.755 W: [[0.54978133]] b: [7.03018087]\n",
      "Epoch: 8200 Loss: 7264.352 W: [[0.54411752]] b: [7.22011684]\n",
      "Epoch: 8400 Loss: 7222.400 W: [[0.53845765]] b: [7.40999157]\n",
      "Epoch: 8600 Loss: 7180.901 W: [[0.53280181]] b: [7.59979536]\n",
      "Epoch: 8800 Loss: 7139.855 W: [[0.52715005]] b: [7.78952]\n",
      "Epoch: 9000 Loss: 7099.265 W: [[0.52150242]] b: [7.97915848]\n",
      "Epoch: 9200 Loss: 7059.130 W: [[0.51585895]] b: [8.16870471]\n",
      "Epoch: 9400 Loss: 7019.452 W: [[0.51021965]] b: [8.35815341]\n",
      "Epoch: 9600 Loss: 6980.230 W: [[0.50458455]] b: [8.54749987]\n",
      "Epoch: 9800 Loss: 6941.464 W: [[0.49895367]] b: [8.73673989]\n",
      "Epoch: 10000 Loss: 6903.155 W: [[0.493327]] b: [8.92586964]\n"
     ]
    }
   ],
   "source": [
    "# Initial cost before optimizing\n",
    "print('Initial Cost: {0:.4f}'.format(linear_reg(Train_X.reshape(N, 1), Train_Y.reshape(N, 1))), \n",
    "      'W:', W.numpy(), 'b:', b.numpy())\n",
    "\n",
    "# Training\n",
    "for training_step in range(max_iter+1):\n",
    "#     for (x, y) in zip(Train_X, Train_Y):\n",
    "#         opt.apply_gradients(grad(x.reshape(1, 1), y.reshape(1, 1)))\n",
    "    opt.apply_gradients(grad(Train_X.reshape(N, 1), Train_Y.reshape(N, 1)))\n",
    "    # Print every so often\n",
    "    if training_step % verbose_freq == 0:\n",
    "        print('Epoch: {0:04d} Loss: {1:.3f}'.format(training_step, linear_reg(Train_X.reshape(N, 1), Train_Y.reshape(N, 1))), \n",
    "              'W:', W.numpy(), 'b:', b.numpy())"
   ]
  },
  {
   "cell_type": "code",
   "execution_count": 8,
   "metadata": {},
   "outputs": [
    {
     "data": {
      "image/png": "[encoded data removed]",
      "text/plain": [
       "<Figure size 576x432 with 1 Axes>"
      ]
     },
     "metadata": {
      "needs_background": "light"
     },
     "output_type": "display_data"
    }
   ],
   "source": [
    "# Plot Final Result\n",
    "plt.figure(figsize=(8, 6))\n",
    "plt.plot(Train_X, Train_Y, 'r.', label='Original data')\n",
    "plt.plot(Train_X.reshape(N, 1), Train_X.reshape(50, 1) * W.numpy() + b.numpy(), label='Fitted line')\n",
    "plt.legend()\n",
    "plt.show()"
   ]
  }
 ],
 "metadata": {
  "kernelspec": {
   "display_name": "Python 3",
   "language": "python",
   "name": "python3"
  },
  "language_info": {
   "codemirror_mode": {
    "name": "ipython",
    "version": 3
   },
   "file_extension": ".py",
   "mimetype": "text/x-python",
   "name": "python",
   "nbconvert_exporter": "python",
   "pygments_lexer": "ipython3",
   "version": "3.7.3"
  }
 },
 "nbformat": 4,
 "nbformat_minor": 2
}
